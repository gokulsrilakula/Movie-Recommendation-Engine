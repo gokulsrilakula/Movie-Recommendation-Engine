{
 "cells": [
  {
   "cell_type": "markdown",
   "metadata": {
    "id": "dAuBq3K9N08-"
   },
   "source": [
    "# Movie-recommendation-engine"
   ]
  },
  {
   "cell_type": "markdown",
   "metadata": {
    "id": "n_lODUJmS7sS"
   },
   "source": [
    "###Impotring the required modules"
   ]
  },
  {
   "cell_type": "code",
   "execution_count": 166,
   "metadata": {
    "id": "fJQ-MBb2OOKd"
   },
   "outputs": [],
   "source": [
    "import numpy as np\n",
    "import pandas as pd\n",
    "import ast\n",
    "import warnings\n",
    "warnings.filterwarnings(\"ignore\")\n",
    "from sklearn.feature_extraction.text import CountVectorizer\n",
    "import nltk\n",
    "from nltk.stem.porter import PorterStemmer\n",
    "from sklearn.metrics.pairwise import cosine_similarity\n",
    "import pickle"
   ]
  },
  {
   "cell_type": "markdown",
   "metadata": {
    "id": "fK8nDE-OSqJT"
   },
   "source": [
    "###Loading the DataSets"
   ]
  },
  {
   "cell_type": "code",
   "execution_count": 64,
   "metadata": {
    "id": "1dPZueye-era"
   },
   "outputs": [],
   "source": [
    "credits=pd.read_csv('tmdb_5000_credits.csv')\n",
    "movies=pd.read_csv('tmdb_5000_movies.csv')"
   ]
  },
  {
   "cell_type": "markdown",
   "metadata": {},
   "source": [
    "Contact me on Linkedin @ Gokul Srilakula for the Dataset"
   ]
  },
  {
   "cell_type": "markdown",
   "metadata": {
    "id": "BdOrqu3ISiNx"
   },
   "source": [
    "###Data Exploration"
   ]
  },
  {
   "cell_type": "code",
   "execution_count": 65,
   "metadata": {
    "colab": {
     "base_uri": "https://localhost:8080/",
     "height": 756
    },
    "id": "0WgygTNItb9H",
    "outputId": "96145706-b792-44c7-99df-9e5d3030c86f"
   },
   "outputs": [
    {
     "data": {
      "text/html": [
       "<div>\n",
       "<style scoped>\n",
       "    .dataframe tbody tr th:only-of-type {\n",
       "        vertical-align: middle;\n",
       "    }\n",
       "\n",
       "    .dataframe tbody tr th {\n",
       "        vertical-align: top;\n",
       "    }\n",
       "\n",
       "    .dataframe thead th {\n",
       "        text-align: right;\n",
       "    }\n",
       "</style>\n",
       "<table border=\"1\" class=\"dataframe\">\n",
       "  <thead>\n",
       "    <tr style=\"text-align: right;\">\n",
       "      <th></th>\n",
       "      <th>budget</th>\n",
       "      <th>genres</th>\n",
       "      <th>homepage</th>\n",
       "      <th>id</th>\n",
       "      <th>keywords</th>\n",
       "      <th>original_language</th>\n",
       "      <th>original_title</th>\n",
       "      <th>overview</th>\n",
       "      <th>popularity</th>\n",
       "      <th>production_companies</th>\n",
       "      <th>production_countries</th>\n",
       "      <th>release_date</th>\n",
       "      <th>revenue</th>\n",
       "      <th>runtime</th>\n",
       "      <th>spoken_languages</th>\n",
       "      <th>status</th>\n",
       "      <th>tagline</th>\n",
       "      <th>title</th>\n",
       "      <th>vote_average</th>\n",
       "      <th>vote_count</th>\n",
       "    </tr>\n",
       "  </thead>\n",
       "  <tbody>\n",
       "    <tr>\n",
       "      <th>0</th>\n",
       "      <td>237000000</td>\n",
       "      <td>[{\"id\": 28, \"name\": \"Action\"}, {\"id\": 12, \"nam...</td>\n",
       "      <td>http://www.avatarmovie.com/</td>\n",
       "      <td>19995</td>\n",
       "      <td>[{\"id\": 1463, \"name\": \"culture clash\"}, {\"id\":...</td>\n",
       "      <td>en</td>\n",
       "      <td>Avatar</td>\n",
       "      <td>In the 22nd century, a paraplegic Marine is di...</td>\n",
       "      <td>150.437577</td>\n",
       "      <td>[{\"name\": \"Ingenious Film Partners\", \"id\": 289...</td>\n",
       "      <td>[{\"iso_3166_1\": \"US\", \"name\": \"United States o...</td>\n",
       "      <td>2009-12-10</td>\n",
       "      <td>2787965087</td>\n",
       "      <td>162.0</td>\n",
       "      <td>[{\"iso_639_1\": \"en\", \"name\": \"English\"}, {\"iso...</td>\n",
       "      <td>Released</td>\n",
       "      <td>Enter the World of Pandora.</td>\n",
       "      <td>Avatar</td>\n",
       "      <td>7.2</td>\n",
       "      <td>11800</td>\n",
       "    </tr>\n",
       "    <tr>\n",
       "      <th>1</th>\n",
       "      <td>300000000</td>\n",
       "      <td>[{\"id\": 12, \"name\": \"Adventure\"}, {\"id\": 14, \"...</td>\n",
       "      <td>http://disney.go.com/disneypictures/pirates/</td>\n",
       "      <td>285</td>\n",
       "      <td>[{\"id\": 270, \"name\": \"ocean\"}, {\"id\": 726, \"na...</td>\n",
       "      <td>en</td>\n",
       "      <td>Pirates of the Caribbean: At World's End</td>\n",
       "      <td>Captain Barbossa, long believed to be dead, ha...</td>\n",
       "      <td>139.082615</td>\n",
       "      <td>[{\"name\": \"Walt Disney Pictures\", \"id\": 2}, {\"...</td>\n",
       "      <td>[{\"iso_3166_1\": \"US\", \"name\": \"United States o...</td>\n",
       "      <td>2007-05-19</td>\n",
       "      <td>961000000</td>\n",
       "      <td>169.0</td>\n",
       "      <td>[{\"iso_639_1\": \"en\", \"name\": \"English\"}]</td>\n",
       "      <td>Released</td>\n",
       "      <td>At the end of the world, the adventure begins.</td>\n",
       "      <td>Pirates of the Caribbean: At World's End</td>\n",
       "      <td>6.9</td>\n",
       "      <td>4500</td>\n",
       "    </tr>\n",
       "    <tr>\n",
       "      <th>2</th>\n",
       "      <td>245000000</td>\n",
       "      <td>[{\"id\": 28, \"name\": \"Action\"}, {\"id\": 12, \"nam...</td>\n",
       "      <td>http://www.sonypictures.com/movies/spectre/</td>\n",
       "      <td>206647</td>\n",
       "      <td>[{\"id\": 470, \"name\": \"spy\"}, {\"id\": 818, \"name...</td>\n",
       "      <td>en</td>\n",
       "      <td>Spectre</td>\n",
       "      <td>A cryptic message from Bond’s past sends him o...</td>\n",
       "      <td>107.376788</td>\n",
       "      <td>[{\"name\": \"Columbia Pictures\", \"id\": 5}, {\"nam...</td>\n",
       "      <td>[{\"iso_3166_1\": \"GB\", \"name\": \"United Kingdom\"...</td>\n",
       "      <td>2015-10-26</td>\n",
       "      <td>880674609</td>\n",
       "      <td>148.0</td>\n",
       "      <td>[{\"iso_639_1\": \"fr\", \"name\": \"Fran\\u00e7ais\"},...</td>\n",
       "      <td>Released</td>\n",
       "      <td>A Plan No One Escapes</td>\n",
       "      <td>Spectre</td>\n",
       "      <td>6.3</td>\n",
       "      <td>4466</td>\n",
       "    </tr>\n",
       "    <tr>\n",
       "      <th>3</th>\n",
       "      <td>250000000</td>\n",
       "      <td>[{\"id\": 28, \"name\": \"Action\"}, {\"id\": 80, \"nam...</td>\n",
       "      <td>http://www.thedarkknightrises.com/</td>\n",
       "      <td>49026</td>\n",
       "      <td>[{\"id\": 849, \"name\": \"dc comics\"}, {\"id\": 853,...</td>\n",
       "      <td>en</td>\n",
       "      <td>The Dark Knight Rises</td>\n",
       "      <td>Following the death of District Attorney Harve...</td>\n",
       "      <td>112.312950</td>\n",
       "      <td>[{\"name\": \"Legendary Pictures\", \"id\": 923}, {\"...</td>\n",
       "      <td>[{\"iso_3166_1\": \"US\", \"name\": \"United States o...</td>\n",
       "      <td>2012-07-16</td>\n",
       "      <td>1084939099</td>\n",
       "      <td>165.0</td>\n",
       "      <td>[{\"iso_639_1\": \"en\", \"name\": \"English\"}]</td>\n",
       "      <td>Released</td>\n",
       "      <td>The Legend Ends</td>\n",
       "      <td>The Dark Knight Rises</td>\n",
       "      <td>7.6</td>\n",
       "      <td>9106</td>\n",
       "    </tr>\n",
       "    <tr>\n",
       "      <th>4</th>\n",
       "      <td>260000000</td>\n",
       "      <td>[{\"id\": 28, \"name\": \"Action\"}, {\"id\": 12, \"nam...</td>\n",
       "      <td>http://movies.disney.com/john-carter</td>\n",
       "      <td>49529</td>\n",
       "      <td>[{\"id\": 818, \"name\": \"based on novel\"}, {\"id\":...</td>\n",
       "      <td>en</td>\n",
       "      <td>John Carter</td>\n",
       "      <td>John Carter is a war-weary, former military ca...</td>\n",
       "      <td>43.926995</td>\n",
       "      <td>[{\"name\": \"Walt Disney Pictures\", \"id\": 2}]</td>\n",
       "      <td>[{\"iso_3166_1\": \"US\", \"name\": \"United States o...</td>\n",
       "      <td>2012-03-07</td>\n",
       "      <td>284139100</td>\n",
       "      <td>132.0</td>\n",
       "      <td>[{\"iso_639_1\": \"en\", \"name\": \"English\"}]</td>\n",
       "      <td>Released</td>\n",
       "      <td>Lost in our world, found in another.</td>\n",
       "      <td>John Carter</td>\n",
       "      <td>6.1</td>\n",
       "      <td>2124</td>\n",
       "    </tr>\n",
       "  </tbody>\n",
       "</table>\n",
       "</div>"
      ],
      "text/plain": [
       "      budget                                             genres  \\\n",
       "0  237000000  [{\"id\": 28, \"name\": \"Action\"}, {\"id\": 12, \"nam...   \n",
       "1  300000000  [{\"id\": 12, \"name\": \"Adventure\"}, {\"id\": 14, \"...   \n",
       "2  245000000  [{\"id\": 28, \"name\": \"Action\"}, {\"id\": 12, \"nam...   \n",
       "3  250000000  [{\"id\": 28, \"name\": \"Action\"}, {\"id\": 80, \"nam...   \n",
       "4  260000000  [{\"id\": 28, \"name\": \"Action\"}, {\"id\": 12, \"nam...   \n",
       "\n",
       "                                       homepage      id  \\\n",
       "0                   http://www.avatarmovie.com/   19995   \n",
       "1  http://disney.go.com/disneypictures/pirates/     285   \n",
       "2   http://www.sonypictures.com/movies/spectre/  206647   \n",
       "3            http://www.thedarkknightrises.com/   49026   \n",
       "4          http://movies.disney.com/john-carter   49529   \n",
       "\n",
       "                                            keywords original_language  \\\n",
       "0  [{\"id\": 1463, \"name\": \"culture clash\"}, {\"id\":...                en   \n",
       "1  [{\"id\": 270, \"name\": \"ocean\"}, {\"id\": 726, \"na...                en   \n",
       "2  [{\"id\": 470, \"name\": \"spy\"}, {\"id\": 818, \"name...                en   \n",
       "3  [{\"id\": 849, \"name\": \"dc comics\"}, {\"id\": 853,...                en   \n",
       "4  [{\"id\": 818, \"name\": \"based on novel\"}, {\"id\":...                en   \n",
       "\n",
       "                             original_title  \\\n",
       "0                                    Avatar   \n",
       "1  Pirates of the Caribbean: At World's End   \n",
       "2                                   Spectre   \n",
       "3                     The Dark Knight Rises   \n",
       "4                               John Carter   \n",
       "\n",
       "                                            overview  popularity  \\\n",
       "0  In the 22nd century, a paraplegic Marine is di...  150.437577   \n",
       "1  Captain Barbossa, long believed to be dead, ha...  139.082615   \n",
       "2  A cryptic message from Bond’s past sends him o...  107.376788   \n",
       "3  Following the death of District Attorney Harve...  112.312950   \n",
       "4  John Carter is a war-weary, former military ca...   43.926995   \n",
       "\n",
       "                                production_companies  \\\n",
       "0  [{\"name\": \"Ingenious Film Partners\", \"id\": 289...   \n",
       "1  [{\"name\": \"Walt Disney Pictures\", \"id\": 2}, {\"...   \n",
       "2  [{\"name\": \"Columbia Pictures\", \"id\": 5}, {\"nam...   \n",
       "3  [{\"name\": \"Legendary Pictures\", \"id\": 923}, {\"...   \n",
       "4        [{\"name\": \"Walt Disney Pictures\", \"id\": 2}]   \n",
       "\n",
       "                                production_countries release_date     revenue  \\\n",
       "0  [{\"iso_3166_1\": \"US\", \"name\": \"United States o...   2009-12-10  2787965087   \n",
       "1  [{\"iso_3166_1\": \"US\", \"name\": \"United States o...   2007-05-19   961000000   \n",
       "2  [{\"iso_3166_1\": \"GB\", \"name\": \"United Kingdom\"...   2015-10-26   880674609   \n",
       "3  [{\"iso_3166_1\": \"US\", \"name\": \"United States o...   2012-07-16  1084939099   \n",
       "4  [{\"iso_3166_1\": \"US\", \"name\": \"United States o...   2012-03-07   284139100   \n",
       "\n",
       "   runtime                                   spoken_languages    status  \\\n",
       "0    162.0  [{\"iso_639_1\": \"en\", \"name\": \"English\"}, {\"iso...  Released   \n",
       "1    169.0           [{\"iso_639_1\": \"en\", \"name\": \"English\"}]  Released   \n",
       "2    148.0  [{\"iso_639_1\": \"fr\", \"name\": \"Fran\\u00e7ais\"},...  Released   \n",
       "3    165.0           [{\"iso_639_1\": \"en\", \"name\": \"English\"}]  Released   \n",
       "4    132.0           [{\"iso_639_1\": \"en\", \"name\": \"English\"}]  Released   \n",
       "\n",
       "                                          tagline  \\\n",
       "0                     Enter the World of Pandora.   \n",
       "1  At the end of the world, the adventure begins.   \n",
       "2                           A Plan No One Escapes   \n",
       "3                                 The Legend Ends   \n",
       "4            Lost in our world, found in another.   \n",
       "\n",
       "                                      title  vote_average  vote_count  \n",
       "0                                    Avatar           7.2       11800  \n",
       "1  Pirates of the Caribbean: At World's End           6.9        4500  \n",
       "2                                   Spectre           6.3        4466  \n",
       "3                     The Dark Knight Rises           7.6        9106  \n",
       "4                               John Carter           6.1        2124  "
      ]
     },
     "execution_count": 65,
     "metadata": {},
     "output_type": "execute_result"
    }
   ],
   "source": [
    "movies.head()"
   ]
  },
  {
   "cell_type": "code",
   "execution_count": 66,
   "metadata": {
    "colab": {
     "base_uri": "https://localhost:8080/",
     "height": 206
    },
    "id": "ySznPRNptm3t",
    "outputId": "9867a574-dd23-44f9-e928-af640e0f6c81"
   },
   "outputs": [
    {
     "data": {
      "text/html": [
       "<div>\n",
       "<style scoped>\n",
       "    .dataframe tbody tr th:only-of-type {\n",
       "        vertical-align: middle;\n",
       "    }\n",
       "\n",
       "    .dataframe tbody tr th {\n",
       "        vertical-align: top;\n",
       "    }\n",
       "\n",
       "    .dataframe thead th {\n",
       "        text-align: right;\n",
       "    }\n",
       "</style>\n",
       "<table border=\"1\" class=\"dataframe\">\n",
       "  <thead>\n",
       "    <tr style=\"text-align: right;\">\n",
       "      <th></th>\n",
       "      <th>movie_id</th>\n",
       "      <th>title</th>\n",
       "      <th>cast</th>\n",
       "      <th>crew</th>\n",
       "    </tr>\n",
       "  </thead>\n",
       "  <tbody>\n",
       "    <tr>\n",
       "      <th>0</th>\n",
       "      <td>19995</td>\n",
       "      <td>Avatar</td>\n",
       "      <td>[{\"cast_id\": 242, \"character\": \"Jake Sully\", \"...</td>\n",
       "      <td>[{\"credit_id\": \"52fe48009251416c750aca23\", \"de...</td>\n",
       "    </tr>\n",
       "    <tr>\n",
       "      <th>1</th>\n",
       "      <td>285</td>\n",
       "      <td>Pirates of the Caribbean: At World's End</td>\n",
       "      <td>[{\"cast_id\": 4, \"character\": \"Captain Jack Spa...</td>\n",
       "      <td>[{\"credit_id\": \"52fe4232c3a36847f800b579\", \"de...</td>\n",
       "    </tr>\n",
       "    <tr>\n",
       "      <th>2</th>\n",
       "      <td>206647</td>\n",
       "      <td>Spectre</td>\n",
       "      <td>[{\"cast_id\": 1, \"character\": \"James Bond\", \"cr...</td>\n",
       "      <td>[{\"credit_id\": \"54805967c3a36829b5002c41\", \"de...</td>\n",
       "    </tr>\n",
       "    <tr>\n",
       "      <th>3</th>\n",
       "      <td>49026</td>\n",
       "      <td>The Dark Knight Rises</td>\n",
       "      <td>[{\"cast_id\": 2, \"character\": \"Bruce Wayne / Ba...</td>\n",
       "      <td>[{\"credit_id\": \"52fe4781c3a36847f81398c3\", \"de...</td>\n",
       "    </tr>\n",
       "    <tr>\n",
       "      <th>4</th>\n",
       "      <td>49529</td>\n",
       "      <td>John Carter</td>\n",
       "      <td>[{\"cast_id\": 5, \"character\": \"John Carter\", \"c...</td>\n",
       "      <td>[{\"credit_id\": \"52fe479ac3a36847f813eaa3\", \"de...</td>\n",
       "    </tr>\n",
       "  </tbody>\n",
       "</table>\n",
       "</div>"
      ],
      "text/plain": [
       "   movie_id                                     title  \\\n",
       "0     19995                                    Avatar   \n",
       "1       285  Pirates of the Caribbean: At World's End   \n",
       "2    206647                                   Spectre   \n",
       "3     49026                     The Dark Knight Rises   \n",
       "4     49529                               John Carter   \n",
       "\n",
       "                                                cast  \\\n",
       "0  [{\"cast_id\": 242, \"character\": \"Jake Sully\", \"...   \n",
       "1  [{\"cast_id\": 4, \"character\": \"Captain Jack Spa...   \n",
       "2  [{\"cast_id\": 1, \"character\": \"James Bond\", \"cr...   \n",
       "3  [{\"cast_id\": 2, \"character\": \"Bruce Wayne / Ba...   \n",
       "4  [{\"cast_id\": 5, \"character\": \"John Carter\", \"c...   \n",
       "\n",
       "                                                crew  \n",
       "0  [{\"credit_id\": \"52fe48009251416c750aca23\", \"de...  \n",
       "1  [{\"credit_id\": \"52fe4232c3a36847f800b579\", \"de...  \n",
       "2  [{\"credit_id\": \"54805967c3a36829b5002c41\", \"de...  \n",
       "3  [{\"credit_id\": \"52fe4781c3a36847f81398c3\", \"de...  \n",
       "4  [{\"credit_id\": \"52fe479ac3a36847f813eaa3\", \"de...  "
      ]
     },
     "execution_count": 66,
     "metadata": {},
     "output_type": "execute_result"
    }
   ],
   "source": [
    "credits.head()"
   ]
  },
  {
   "cell_type": "code",
   "execution_count": 67,
   "metadata": {
    "colab": {
     "base_uri": "https://localhost:8080/"
    },
    "id": "JEYfRO2mOOHR",
    "outputId": "e6b07313-87c2-4c18-a9ea-d5d8ac7d549c"
   },
   "outputs": [
    {
     "name": "stdout",
     "output_type": "stream",
     "text": [
      "<class 'pandas.core.frame.DataFrame'>\n",
      "RangeIndex: 4803 entries, 0 to 4802\n",
      "Data columns (total 4 columns):\n",
      " #   Column    Non-Null Count  Dtype \n",
      "---  ------    --------------  ----- \n",
      " 0   movie_id  4803 non-null   int64 \n",
      " 1   title     4803 non-null   object\n",
      " 2   cast      4803 non-null   object\n",
      " 3   crew      4803 non-null   object\n",
      "dtypes: int64(1), object(3)\n",
      "memory usage: 150.2+ KB\n"
     ]
    }
   ],
   "source": [
    "credits.info()"
   ]
  },
  {
   "cell_type": "code",
   "execution_count": 68,
   "metadata": {
    "colab": {
     "base_uri": "https://localhost:8080/"
    },
    "id": "SqEmPceIOOES",
    "outputId": "9282801f-fe00-44f9-d554-4975bd845cd1"
   },
   "outputs": [
    {
     "name": "stdout",
     "output_type": "stream",
     "text": [
      "<class 'pandas.core.frame.DataFrame'>\n",
      "RangeIndex: 4803 entries, 0 to 4802\n",
      "Data columns (total 20 columns):\n",
      " #   Column                Non-Null Count  Dtype  \n",
      "---  ------                --------------  -----  \n",
      " 0   budget                4803 non-null   int64  \n",
      " 1   genres                4803 non-null   object \n",
      " 2   homepage              1712 non-null   object \n",
      " 3   id                    4803 non-null   int64  \n",
      " 4   keywords              4803 non-null   object \n",
      " 5   original_language     4803 non-null   object \n",
      " 6   original_title        4803 non-null   object \n",
      " 7   overview              4800 non-null   object \n",
      " 8   popularity            4803 non-null   float64\n",
      " 9   production_companies  4803 non-null   object \n",
      " 10  production_countries  4803 non-null   object \n",
      " 11  release_date          4802 non-null   object \n",
      " 12  revenue               4803 non-null   int64  \n",
      " 13  runtime               4801 non-null   float64\n",
      " 14  spoken_languages      4803 non-null   object \n",
      " 15  status                4803 non-null   object \n",
      " 16  tagline               3959 non-null   object \n",
      " 17  title                 4803 non-null   object \n",
      " 18  vote_average          4803 non-null   float64\n",
      " 19  vote_count            4803 non-null   int64  \n",
      "dtypes: float64(3), int64(4), object(13)\n",
      "memory usage: 750.6+ KB\n"
     ]
    }
   ],
   "source": [
    "movies.info()"
   ]
  },
  {
   "cell_type": "markdown",
   "metadata": {
    "id": "YGMCTre-R_Ni"
   },
   "source": [
    "###Feature Selection"
   ]
  },
  {
   "cell_type": "markdown",
   "metadata": {
    "id": "DJTiJqGkvVdv"
   },
   "source": [
    "Merging the Dataset on the basis of title"
   ]
  },
  {
   "cell_type": "code",
   "execution_count": 77,
   "metadata": {
    "id": "8YiSHE-k_g9w"
   },
   "outputs": [],
   "source": [
    "movies = movies.merge(credits, on='title')"
   ]
  },
  {
   "cell_type": "code",
   "execution_count": 78,
   "metadata": {
    "colab": {
     "base_uri": "https://localhost:8080/",
     "height": 261
    },
    "id": "k6mJezT6zmxk",
    "outputId": "0f5c8b6d-a1e8-4a2f-cfcb-6b36db462477"
   },
   "outputs": [
    {
     "data": {
      "text/html": [
       "<div>\n",
       "<style scoped>\n",
       "    .dataframe tbody tr th:only-of-type {\n",
       "        vertical-align: middle;\n",
       "    }\n",
       "\n",
       "    .dataframe tbody tr th {\n",
       "        vertical-align: top;\n",
       "    }\n",
       "\n",
       "    .dataframe thead th {\n",
       "        text-align: right;\n",
       "    }\n",
       "</style>\n",
       "<table border=\"1\" class=\"dataframe\">\n",
       "  <thead>\n",
       "    <tr style=\"text-align: right;\">\n",
       "      <th></th>\n",
       "      <th>budget</th>\n",
       "      <th>genres</th>\n",
       "      <th>homepage</th>\n",
       "      <th>id</th>\n",
       "      <th>keywords</th>\n",
       "      <th>original_language</th>\n",
       "      <th>original_title</th>\n",
       "      <th>overview</th>\n",
       "      <th>popularity</th>\n",
       "      <th>production_companies</th>\n",
       "      <th>...</th>\n",
       "      <th>vote_count</th>\n",
       "      <th>movie_id_x</th>\n",
       "      <th>cast_x</th>\n",
       "      <th>crew_x</th>\n",
       "      <th>movie_id_y</th>\n",
       "      <th>cast_y</th>\n",
       "      <th>crew_y</th>\n",
       "      <th>movie_id</th>\n",
       "      <th>cast</th>\n",
       "      <th>crew</th>\n",
       "    </tr>\n",
       "  </thead>\n",
       "  <tbody>\n",
       "    <tr>\n",
       "      <th>0</th>\n",
       "      <td>237000000</td>\n",
       "      <td>[{\"id\": 28, \"name\": \"Action\"}, {\"id\": 12, \"nam...</td>\n",
       "      <td>http://www.avatarmovie.com/</td>\n",
       "      <td>19995</td>\n",
       "      <td>[{\"id\": 1463, \"name\": \"culture clash\"}, {\"id\":...</td>\n",
       "      <td>en</td>\n",
       "      <td>Avatar</td>\n",
       "      <td>In the 22nd century, a paraplegic Marine is di...</td>\n",
       "      <td>150.437577</td>\n",
       "      <td>[{\"name\": \"Ingenious Film Partners\", \"id\": 289...</td>\n",
       "      <td>...</td>\n",
       "      <td>11800</td>\n",
       "      <td>19995</td>\n",
       "      <td>[{\"cast_id\": 242, \"character\": \"Jake Sully\", \"...</td>\n",
       "      <td>[{\"credit_id\": \"52fe48009251416c750aca23\", \"de...</td>\n",
       "      <td>19995</td>\n",
       "      <td>[{\"cast_id\": 242, \"character\": \"Jake Sully\", \"...</td>\n",
       "      <td>[{\"credit_id\": \"52fe48009251416c750aca23\", \"de...</td>\n",
       "      <td>19995</td>\n",
       "      <td>[{\"cast_id\": 242, \"character\": \"Jake Sully\", \"...</td>\n",
       "      <td>[{\"credit_id\": \"52fe48009251416c750aca23\", \"de...</td>\n",
       "    </tr>\n",
       "  </tbody>\n",
       "</table>\n",
       "<p>1 rows × 29 columns</p>\n",
       "</div>"
      ],
      "text/plain": [
       "      budget                                             genres  \\\n",
       "0  237000000  [{\"id\": 28, \"name\": \"Action\"}, {\"id\": 12, \"nam...   \n",
       "\n",
       "                      homepage     id  \\\n",
       "0  http://www.avatarmovie.com/  19995   \n",
       "\n",
       "                                            keywords original_language  \\\n",
       "0  [{\"id\": 1463, \"name\": \"culture clash\"}, {\"id\":...                en   \n",
       "\n",
       "  original_title                                           overview  \\\n",
       "0         Avatar  In the 22nd century, a paraplegic Marine is di...   \n",
       "\n",
       "   popularity                               production_companies  ...  \\\n",
       "0  150.437577  [{\"name\": \"Ingenious Film Partners\", \"id\": 289...  ...   \n",
       "\n",
       "  vote_count movie_id_x                                             cast_x  \\\n",
       "0      11800      19995  [{\"cast_id\": 242, \"character\": \"Jake Sully\", \"...   \n",
       "\n",
       "                                              crew_x movie_id_y  \\\n",
       "0  [{\"credit_id\": \"52fe48009251416c750aca23\", \"de...      19995   \n",
       "\n",
       "                                              cast_y  \\\n",
       "0  [{\"cast_id\": 242, \"character\": \"Jake Sully\", \"...   \n",
       "\n",
       "                                              crew_y movie_id  \\\n",
       "0  [{\"credit_id\": \"52fe48009251416c750aca23\", \"de...    19995   \n",
       "\n",
       "                                                cast  \\\n",
       "0  [{\"cast_id\": 242, \"character\": \"Jake Sully\", \"...   \n",
       "\n",
       "                                                crew  \n",
       "0  [{\"credit_id\": \"52fe48009251416c750aca23\", \"de...  \n",
       "\n",
       "[1 rows x 29 columns]"
      ]
     },
     "execution_count": 78,
     "metadata": {},
     "output_type": "execute_result"
    }
   ],
   "source": [
    "movies.head(1)"
   ]
  },
  {
   "cell_type": "markdown",
   "metadata": {
    "id": "eI2O7ooN3f6Z"
   },
   "source": [
    "Removing the unwanted columns"
   ]
  },
  {
   "cell_type": "code",
   "execution_count": 79,
   "metadata": {
    "id": "Xn1Li2YD2884"
   },
   "outputs": [],
   "source": [
    "movies=movies[['movie_id','title','overview','genres','keywords','cast','crew']]"
   ]
  },
  {
   "cell_type": "code",
   "execution_count": 80,
   "metadata": {
    "colab": {
     "base_uri": "https://localhost:8080/",
     "height": 81
    },
    "id": "wl7QfRDdON4Y",
    "outputId": "012c3d20-2851-441e-d966-1bb57d8ee14e"
   },
   "outputs": [
    {
     "data": {
      "text/html": [
       "<div>\n",
       "<style scoped>\n",
       "    .dataframe tbody tr th:only-of-type {\n",
       "        vertical-align: middle;\n",
       "    }\n",
       "\n",
       "    .dataframe tbody tr th {\n",
       "        vertical-align: top;\n",
       "    }\n",
       "\n",
       "    .dataframe thead th {\n",
       "        text-align: right;\n",
       "    }\n",
       "</style>\n",
       "<table border=\"1\" class=\"dataframe\">\n",
       "  <thead>\n",
       "    <tr style=\"text-align: right;\">\n",
       "      <th></th>\n",
       "      <th>movie_id</th>\n",
       "      <th>title</th>\n",
       "      <th>overview</th>\n",
       "      <th>genres</th>\n",
       "      <th>keywords</th>\n",
       "      <th>cast</th>\n",
       "      <th>crew</th>\n",
       "    </tr>\n",
       "  </thead>\n",
       "  <tbody>\n",
       "    <tr>\n",
       "      <th>0</th>\n",
       "      <td>19995</td>\n",
       "      <td>Avatar</td>\n",
       "      <td>In the 22nd century, a paraplegic Marine is di...</td>\n",
       "      <td>[{\"id\": 28, \"name\": \"Action\"}, {\"id\": 12, \"nam...</td>\n",
       "      <td>[{\"id\": 1463, \"name\": \"culture clash\"}, {\"id\":...</td>\n",
       "      <td>[{\"cast_id\": 242, \"character\": \"Jake Sully\", \"...</td>\n",
       "      <td>[{\"credit_id\": \"52fe48009251416c750aca23\", \"de...</td>\n",
       "    </tr>\n",
       "  </tbody>\n",
       "</table>\n",
       "</div>"
      ],
      "text/plain": [
       "   movie_id   title                                           overview  \\\n",
       "0     19995  Avatar  In the 22nd century, a paraplegic Marine is di...   \n",
       "\n",
       "                                              genres  \\\n",
       "0  [{\"id\": 28, \"name\": \"Action\"}, {\"id\": 12, \"nam...   \n",
       "\n",
       "                                            keywords  \\\n",
       "0  [{\"id\": 1463, \"name\": \"culture clash\"}, {\"id\":...   \n",
       "\n",
       "                                                cast  \\\n",
       "0  [{\"cast_id\": 242, \"character\": \"Jake Sully\", \"...   \n",
       "\n",
       "                                                crew  \n",
       "0  [{\"credit_id\": \"52fe48009251416c750aca23\", \"de...  "
      ]
     },
     "execution_count": 80,
     "metadata": {},
     "output_type": "execute_result"
    }
   ],
   "source": [
    "movies.head(1)"
   ]
  },
  {
   "cell_type": "markdown",
   "metadata": {
    "id": "_K5xVk0C5hbL"
   },
   "source": [
    "Removing the data with the null values"
   ]
  },
  {
   "cell_type": "code",
   "execution_count": 81,
   "metadata": {
    "colab": {
     "base_uri": "https://localhost:8080/"
    },
    "id": "OGQ8l8fYON1a",
    "outputId": "d7af681a-b1e3-404b-c8b5-af9fcb284a3e"
   },
   "outputs": [
    {
     "data": {
      "text/plain": [
       "movie_id    0\n",
       "title       0\n",
       "overview    3\n",
       "genres      0\n",
       "keywords    0\n",
       "cast        0\n",
       "crew        0\n",
       "dtype: int64"
      ]
     },
     "execution_count": 81,
     "metadata": {},
     "output_type": "execute_result"
    }
   ],
   "source": [
    "movies.isnull().sum()"
   ]
  },
  {
   "cell_type": "code",
   "execution_count": 82,
   "metadata": {
    "id": "im89ijS1ONyC"
   },
   "outputs": [],
   "source": [
    "movies.dropna(inplace=True)"
   ]
  },
  {
   "cell_type": "code",
   "execution_count": 83,
   "metadata": {
    "colab": {
     "base_uri": "https://localhost:8080/"
    },
    "id": "G_HoWa_wONl-",
    "outputId": "726920af-9fa8-4ca4-f45a-382404294ce8"
   },
   "outputs": [
    {
     "data": {
      "text/plain": [
       "movie_id    0\n",
       "title       0\n",
       "overview    0\n",
       "genres      0\n",
       "keywords    0\n",
       "cast        0\n",
       "crew        0\n",
       "dtype: int64"
      ]
     },
     "execution_count": 83,
     "metadata": {},
     "output_type": "execute_result"
    }
   ],
   "source": [
    "movies.isnull().sum()"
   ]
  },
  {
   "cell_type": "markdown",
   "metadata": {
    "id": "rrdCogBA6Lqi"
   },
   "source": [
    "Removing the Duplicate values"
   ]
  },
  {
   "cell_type": "code",
   "execution_count": 84,
   "metadata": {
    "colab": {
     "base_uri": "https://localhost:8080/"
    },
    "id": "45Oblul2515q",
    "outputId": "faa3b1a5-1edc-45de-97d5-c77fc3273a04"
   },
   "outputs": [
    {
     "data": {
      "text/plain": [
       "36"
      ]
     },
     "execution_count": 84,
     "metadata": {},
     "output_type": "execute_result"
    }
   ],
   "source": [
    "movies.duplicated().sum()"
   ]
  },
  {
   "cell_type": "code",
   "execution_count": 85,
   "metadata": {
    "id": "paZq2VR-512_"
   },
   "outputs": [],
   "source": [
    "movies.drop_duplicates(inplace=True)"
   ]
  },
  {
   "cell_type": "code",
   "execution_count": 86,
   "metadata": {
    "colab": {
     "base_uri": "https://localhost:8080/"
    },
    "id": "0CXeUJPV510X",
    "outputId": "07954211-f8e0-4a26-ab79-563d9f86866b"
   },
   "outputs": [
    {
     "data": {
      "text/plain": [
       "0"
      ]
     },
     "execution_count": 86,
     "metadata": {},
     "output_type": "execute_result"
    }
   ],
   "source": [
    "movies.duplicated().sum()"
   ]
  },
  {
   "cell_type": "markdown",
   "metadata": {
    "id": "oDb4WDbJQGSi"
   },
   "source": [
    "###Feature Engineering"
   ]
  },
  {
   "cell_type": "code",
   "execution_count": 87,
   "metadata": {
    "id": "U5U6Ybh2Txnh"
   },
   "outputs": [],
   "source": [
    "def convert(obj):\n",
    "  l=[]\n",
    "  for i in ast.literal_eval(obj):\n",
    "    l.append(i['name'])\n",
    "  return l"
   ]
  },
  {
   "cell_type": "markdown",
   "metadata": {
    "id": "g8o6ulPrbW2d"
   },
   "source": [
    "Creating Keywords From Genres"
   ]
  },
  {
   "cell_type": "code",
   "execution_count": 88,
   "metadata": {
    "colab": {
     "base_uri": "https://localhost:8080/",
     "height": 35
    },
    "id": "nS8-yKU5QLKg",
    "outputId": "a935f949-d837-4c39-b9b2-ef6a6d806bc6"
   },
   "outputs": [
    {
     "data": {
      "text/plain": [
       "'[{\"id\": 28, \"name\": \"Action\"}, {\"id\": 12, \"name\": \"Adventure\"}, {\"id\": 14, \"name\": \"Fantasy\"}, {\"id\": 878, \"name\": \"Science Fiction\"}]'"
      ]
     },
     "execution_count": 88,
     "metadata": {},
     "output_type": "execute_result"
    }
   ],
   "source": [
    "movies.iloc[0].genres"
   ]
  },
  {
   "cell_type": "code",
   "execution_count": 89,
   "metadata": {
    "id": "Zrr7JR8ATxhT"
   },
   "outputs": [],
   "source": [
    "movies['genres']=movies['genres'].apply(convert)"
   ]
  },
  {
   "cell_type": "code",
   "execution_count": 90,
   "metadata": {
    "colab": {
     "base_uri": "https://localhost:8080/",
     "height": 81
    },
    "id": "3UYx-tbgTxcn",
    "outputId": "d577d1dd-139e-4c33-e37d-19a03a999c5a"
   },
   "outputs": [
    {
     "data": {
      "text/html": [
       "<div>\n",
       "<style scoped>\n",
       "    .dataframe tbody tr th:only-of-type {\n",
       "        vertical-align: middle;\n",
       "    }\n",
       "\n",
       "    .dataframe tbody tr th {\n",
       "        vertical-align: top;\n",
       "    }\n",
       "\n",
       "    .dataframe thead th {\n",
       "        text-align: right;\n",
       "    }\n",
       "</style>\n",
       "<table border=\"1\" class=\"dataframe\">\n",
       "  <thead>\n",
       "    <tr style=\"text-align: right;\">\n",
       "      <th></th>\n",
       "      <th>movie_id</th>\n",
       "      <th>title</th>\n",
       "      <th>overview</th>\n",
       "      <th>genres</th>\n",
       "      <th>keywords</th>\n",
       "      <th>cast</th>\n",
       "      <th>crew</th>\n",
       "    </tr>\n",
       "  </thead>\n",
       "  <tbody>\n",
       "    <tr>\n",
       "      <th>0</th>\n",
       "      <td>19995</td>\n",
       "      <td>Avatar</td>\n",
       "      <td>In the 22nd century, a paraplegic Marine is di...</td>\n",
       "      <td>[Action, Adventure, Fantasy, Science Fiction]</td>\n",
       "      <td>[{\"id\": 1463, \"name\": \"culture clash\"}, {\"id\":...</td>\n",
       "      <td>[{\"cast_id\": 242, \"character\": \"Jake Sully\", \"...</td>\n",
       "      <td>[{\"credit_id\": \"52fe48009251416c750aca23\", \"de...</td>\n",
       "    </tr>\n",
       "  </tbody>\n",
       "</table>\n",
       "</div>"
      ],
      "text/plain": [
       "   movie_id   title                                           overview  \\\n",
       "0     19995  Avatar  In the 22nd century, a paraplegic Marine is di...   \n",
       "\n",
       "                                          genres  \\\n",
       "0  [Action, Adventure, Fantasy, Science Fiction]   \n",
       "\n",
       "                                            keywords  \\\n",
       "0  [{\"id\": 1463, \"name\": \"culture clash\"}, {\"id\":...   \n",
       "\n",
       "                                                cast  \\\n",
       "0  [{\"cast_id\": 242, \"character\": \"Jake Sully\", \"...   \n",
       "\n",
       "                                                crew  \n",
       "0  [{\"credit_id\": \"52fe48009251416c750aca23\", \"de...  "
      ]
     },
     "execution_count": 90,
     "metadata": {},
     "output_type": "execute_result"
    }
   ],
   "source": [
    "movies.head(1)"
   ]
  },
  {
   "cell_type": "markdown",
   "metadata": {
    "id": "pwHgERvhbkcg"
   },
   "source": [
    "Creating Keywords From Keywords Column"
   ]
  },
  {
   "cell_type": "code",
   "execution_count": 91,
   "metadata": {
    "colab": {
     "base_uri": "https://localhost:8080/",
     "height": 87
    },
    "id": "d5y8N7Njb7XI",
    "outputId": "f520b8b7-297a-4d68-fb50-ee5de99f2f66"
   },
   "outputs": [
    {
     "data": {
      "text/plain": [
       "'[{\"id\": 1463, \"name\": \"culture clash\"}, {\"id\": 2964, \"name\": \"future\"}, {\"id\": 3386, \"name\": \"space war\"}, {\"id\": 3388, \"name\": \"space colony\"}, {\"id\": 3679, \"name\": \"society\"}, {\"id\": 3801, \"name\": \"space travel\"}, {\"id\": 9685, \"name\": \"futuristic\"}, {\"id\": 9840, \"name\": \"romance\"}, {\"id\": 9882, \"name\": \"space\"}, {\"id\": 9951, \"name\": \"alien\"}, {\"id\": 10148, \"name\": \"tribe\"}, {\"id\": 10158, \"name\": \"alien planet\"}, {\"id\": 10987, \"name\": \"cgi\"}, {\"id\": 11399, \"name\": \"marine\"}, {\"id\": 13065, \"name\": \"soldier\"}, {\"id\": 14643, \"name\": \"battle\"}, {\"id\": 14720, \"name\": \"love affair\"}, {\"id\": 165431, \"name\": \"anti war\"}, {\"id\": 193554, \"name\": \"power relations\"}, {\"id\": 206690, \"name\": \"mind and soul\"}, {\"id\": 209714, \"name\": \"3d\"}]'"
      ]
     },
     "execution_count": 91,
     "metadata": {},
     "output_type": "execute_result"
    }
   ],
   "source": [
    "movies.iloc[0].keywords"
   ]
  },
  {
   "cell_type": "code",
   "execution_count": 92,
   "metadata": {
    "id": "qv7WRQbETxZp"
   },
   "outputs": [],
   "source": [
    "movies['keywords'] = movies['keywords'].apply(convert)"
   ]
  },
  {
   "cell_type": "code",
   "execution_count": 93,
   "metadata": {
    "colab": {
     "base_uri": "https://localhost:8080/",
     "height": 81
    },
    "id": "hTTva67eTxSK",
    "outputId": "b854a6b7-b4e2-497a-9f0a-400e2321fd7b"
   },
   "outputs": [
    {
     "data": {
      "text/html": [
       "<div>\n",
       "<style scoped>\n",
       "    .dataframe tbody tr th:only-of-type {\n",
       "        vertical-align: middle;\n",
       "    }\n",
       "\n",
       "    .dataframe tbody tr th {\n",
       "        vertical-align: top;\n",
       "    }\n",
       "\n",
       "    .dataframe thead th {\n",
       "        text-align: right;\n",
       "    }\n",
       "</style>\n",
       "<table border=\"1\" class=\"dataframe\">\n",
       "  <thead>\n",
       "    <tr style=\"text-align: right;\">\n",
       "      <th></th>\n",
       "      <th>movie_id</th>\n",
       "      <th>title</th>\n",
       "      <th>overview</th>\n",
       "      <th>genres</th>\n",
       "      <th>keywords</th>\n",
       "      <th>cast</th>\n",
       "      <th>crew</th>\n",
       "    </tr>\n",
       "  </thead>\n",
       "  <tbody>\n",
       "    <tr>\n",
       "      <th>0</th>\n",
       "      <td>19995</td>\n",
       "      <td>Avatar</td>\n",
       "      <td>In the 22nd century, a paraplegic Marine is di...</td>\n",
       "      <td>[Action, Adventure, Fantasy, Science Fiction]</td>\n",
       "      <td>[culture clash, future, space war, space colon...</td>\n",
       "      <td>[{\"cast_id\": 242, \"character\": \"Jake Sully\", \"...</td>\n",
       "      <td>[{\"credit_id\": \"52fe48009251416c750aca23\", \"de...</td>\n",
       "    </tr>\n",
       "  </tbody>\n",
       "</table>\n",
       "</div>"
      ],
      "text/plain": [
       "   movie_id   title                                           overview  \\\n",
       "0     19995  Avatar  In the 22nd century, a paraplegic Marine is di...   \n",
       "\n",
       "                                          genres  \\\n",
       "0  [Action, Adventure, Fantasy, Science Fiction]   \n",
       "\n",
       "                                            keywords  \\\n",
       "0  [culture clash, future, space war, space colon...   \n",
       "\n",
       "                                                cast  \\\n",
       "0  [{\"cast_id\": 242, \"character\": \"Jake Sully\", \"...   \n",
       "\n",
       "                                                crew  \n",
       "0  [{\"credit_id\": \"52fe48009251416c750aca23\", \"de...  "
      ]
     },
     "execution_count": 93,
     "metadata": {},
     "output_type": "execute_result"
    }
   ],
   "source": [
    "movies.head(1)"
   ]
  },
  {
   "cell_type": "markdown",
   "metadata": {
    "id": "P9IhZEtAbwZK"
   },
   "source": [
    "Creating Keywords From Cast Column"
   ]
  },
  {
   "cell_type": "code",
   "execution_count": 94,
   "metadata": {
    "colab": {
     "base_uri": "https://localhost:8080/",
     "height": 105
    },
    "id": "ziYZzsGNb5Z5",
    "outputId": "580acfc8-99e3-4822-cd0b-dea776de238f",
    "scrolled": true
   },
   "outputs": [
    {
     "data": {
      "text/plain": [
       "'[{\"cast_id\": 242, \"character\": \"Jake Sully\", \"credit_id\": \"5602a8a7c3a3685532001c9a\", \"gender\": 2, \"id\": 65731, \"name\": \"Sam Worthington\", \"order\": 0}, {\"cast_id\": 3, \"character\": \"Neytiri\", \"credit_id\": \"52fe48009251416c750ac9cb\", \"gender\": 1, \"id\": 8691, \"name\": \"Zoe Saldana\", \"order\": 1}, {\"cast_id\": 25, \"character\": \"Dr. Grace Augustine\", \"credit_id\": \"52fe48009251416c750aca39\", \"gender\": 1, \"id\": 10205, \"name\": \"Sigourney Weaver\", \"order\": 2}, {\"cast_id\": 4, \"character\": \"Col. Quaritch\", \"credit_id\": \"52fe48009251416c750ac9cf\", \"gender\": 2, \"id\": 32747, \"name\": \"Stephen Lang\", \"order\": 3}, {\"cast_id\": 5, \"character\": \"Trudy Chacon\", \"credit_id\": \"52fe48009251416c750ac9d3\", \"gender\": 1, \"id\": 17647, \"name\": \"Michelle Rodriguez\", \"order\": 4}, {\"cast_id\": 8, \"character\": \"Selfridge\", \"credit_id\": \"52fe48009251416c750ac9e1\", \"gender\": 2, \"id\": 1771, \"name\": \"Giovanni Ribisi\", \"order\": 5}, {\"cast_id\": 7, \"character\": \"Norm Spellman\", \"credit_id\": \"52fe48009251416c750ac9dd\", \"gender\": 2, \"id\": 59231, \"name\": \"Joel David Moore\", \"order\": 6}, {\"cast_id\": 9, \"character\": \"Moat\", \"credit_id\": \"52fe48009251416c750ac9e5\", \"gender\": 1, \"id\": 30485, \"name\": \"CCH Pounder\", \"order\": 7}, {\"cast_id\": 11, \"character\": \"Eytukan\", \"credit_id\": \"52fe48009251416c750ac9ed\", \"gender\": 2, \"id\": 15853, \"name\": \"Wes Studi\", \"order\": 8}, {\"cast_id\": 10, \"character\": \"Tsu\\'Tey\", \"credit_id\": \"52fe48009251416c750ac9e9\", \"gender\": 2, \"id\": 10964, \"name\": \"Laz Alonso\", \"order\": 9}, {\"cast_id\": 12, \"character\": \"Dr. Max Patel\", \"credit_id\": \"52fe48009251416c750ac9f1\", \"gender\": 2, \"id\": 95697, \"name\": \"Dileep Rao\", \"order\": 10}, {\"cast_id\": 13, \"character\": \"Lyle Wainfleet\", \"credit_id\": \"52fe48009251416c750ac9f5\", \"gender\": 2, \"id\": 98215, \"name\": \"Matt Gerald\", \"order\": 11}, {\"cast_id\": 32, \"character\": \"Private Fike\", \"credit_id\": \"52fe48009251416c750aca5b\", \"gender\": 2, \"id\": 154153, \"name\": \"Sean Anthony Moran\", \"order\": 12}, {\"cast_id\": 33, \"character\": \"Cryo Vault Med Tech\", \"credit_id\": \"52fe48009251416c750aca5f\", \"gender\": 2, \"id\": 397312, \"name\": \"Jason Whyte\", \"order\": 13}, {\"cast_id\": 34, \"character\": \"Venture Star Crew Chief\", \"credit_id\": \"52fe48009251416c750aca63\", \"gender\": 2, \"id\": 42317, \"name\": \"Scott Lawrence\", \"order\": 14}, {\"cast_id\": 35, \"character\": \"Lock Up Trooper\", \"credit_id\": \"52fe48009251416c750aca67\", \"gender\": 2, \"id\": 986734, \"name\": \"Kelly Kilgour\", \"order\": 15}, {\"cast_id\": 36, \"character\": \"Shuttle Pilot\", \"credit_id\": \"52fe48009251416c750aca6b\", \"gender\": 0, \"id\": 1207227, \"name\": \"James Patrick Pitt\", \"order\": 16}, {\"cast_id\": 37, \"character\": \"Shuttle Co-Pilot\", \"credit_id\": \"52fe48009251416c750aca6f\", \"gender\": 0, \"id\": 1180936, \"name\": \"Sean Patrick Murphy\", \"order\": 17}, {\"cast_id\": 38, \"character\": \"Shuttle Crew Chief\", \"credit_id\": \"52fe48009251416c750aca73\", \"gender\": 2, \"id\": 1019578, \"name\": \"Peter Dillon\", \"order\": 18}, {\"cast_id\": 39, \"character\": \"Tractor Operator / Troupe\", \"credit_id\": \"52fe48009251416c750aca77\", \"gender\": 0, \"id\": 91443, \"name\": \"Kevin Dorman\", \"order\": 19}, {\"cast_id\": 40, \"character\": \"Dragon Gunship Pilot\", \"credit_id\": \"52fe48009251416c750aca7b\", \"gender\": 2, \"id\": 173391, \"name\": \"Kelson Henderson\", \"order\": 20}, {\"cast_id\": 41, \"character\": \"Dragon Gunship Gunner\", \"credit_id\": \"52fe48009251416c750aca7f\", \"gender\": 0, \"id\": 1207236, \"name\": \"David Van Horn\", \"order\": 21}, {\"cast_id\": 42, \"character\": \"Dragon Gunship Navigator\", \"credit_id\": \"52fe48009251416c750aca83\", \"gender\": 0, \"id\": 215913, \"name\": \"Jacob Tomuri\", \"order\": 22}, {\"cast_id\": 43, \"character\": \"Suit #1\", \"credit_id\": \"52fe48009251416c750aca87\", \"gender\": 0, \"id\": 143206, \"name\": \"Michael Blain-Rozgay\", \"order\": 23}, {\"cast_id\": 44, \"character\": \"Suit #2\", \"credit_id\": \"52fe48009251416c750aca8b\", \"gender\": 2, \"id\": 169676, \"name\": \"Jon Curry\", \"order\": 24}, {\"cast_id\": 46, \"character\": \"Ambient Room Tech\", \"credit_id\": \"52fe48009251416c750aca8f\", \"gender\": 0, \"id\": 1048610, \"name\": \"Luke Hawker\", \"order\": 25}, {\"cast_id\": 47, \"character\": \"Ambient Room Tech / Troupe\", \"credit_id\": \"52fe48009251416c750aca93\", \"gender\": 0, \"id\": 42288, \"name\": \"Woody Schultz\", \"order\": 26}, {\"cast_id\": 48, \"character\": \"Horse Clan Leader\", \"credit_id\": \"52fe48009251416c750aca97\", \"gender\": 2, \"id\": 68278, \"name\": \"Peter Mensah\", \"order\": 27}, {\"cast_id\": 49, \"character\": \"Link Room Tech\", \"credit_id\": \"52fe48009251416c750aca9b\", \"gender\": 0, \"id\": 1207247, \"name\": \"Sonia Yee\", \"order\": 28}, {\"cast_id\": 50, \"character\": \"Basketball Avatar / Troupe\", \"credit_id\": \"52fe48009251416c750aca9f\", \"gender\": 1, \"id\": 1207248, \"name\": \"Jahnel Curfman\", \"order\": 29}, {\"cast_id\": 51, \"character\": \"Basketball Avatar\", \"credit_id\": \"52fe48009251416c750acaa3\", \"gender\": 0, \"id\": 89714, \"name\": \"Ilram Choi\", \"order\": 30}, {\"cast_id\": 52, \"character\": \"Na\\'vi Child\", \"credit_id\": \"52fe48009251416c750acaa7\", \"gender\": 0, \"id\": 1207249, \"name\": \"Kyla Warren\", \"order\": 31}, {\"cast_id\": 53, \"character\": \"Troupe\", \"credit_id\": \"52fe48009251416c750acaab\", \"gender\": 0, \"id\": 1207250, \"name\": \"Lisa Roumain\", \"order\": 32}, {\"cast_id\": 54, \"character\": \"Troupe\", \"credit_id\": \"52fe48009251416c750acaaf\", \"gender\": 1, \"id\": 83105, \"name\": \"Debra Wilson\", \"order\": 33}, {\"cast_id\": 57, \"character\": \"Troupe\", \"credit_id\": \"52fe48009251416c750acabb\", \"gender\": 0, \"id\": 1207253, \"name\": \"Chris Mala\", \"order\": 34}, {\"cast_id\": 55, \"character\": \"Troupe\", \"credit_id\": \"52fe48009251416c750acab3\", \"gender\": 0, \"id\": 1207251, \"name\": \"Taylor Kibby\", \"order\": 35}, {\"cast_id\": 56, \"character\": \"Troupe\", \"credit_id\": \"52fe48009251416c750acab7\", \"gender\": 0, \"id\": 1207252, \"name\": \"Jodie Landau\", \"order\": 36}, {\"cast_id\": 58, \"character\": \"Troupe\", \"credit_id\": \"52fe48009251416c750acabf\", \"gender\": 0, \"id\": 1207254, \"name\": \"Julie Lamm\", \"order\": 37}, {\"cast_id\": 59, \"character\": \"Troupe\", \"credit_id\": \"52fe48009251416c750acac3\", \"gender\": 0, \"id\": 1207257, \"name\": \"Cullen B. Madden\", \"order\": 38}, {\"cast_id\": 60, \"character\": \"Troupe\", \"credit_id\": \"52fe48009251416c750acac7\", \"gender\": 0, \"id\": 1207259, \"name\": \"Joseph Brady Madden\", \"order\": 39}, {\"cast_id\": 61, \"character\": \"Troupe\", \"credit_id\": \"52fe48009251416c750acacb\", \"gender\": 0, \"id\": 1207262, \"name\": \"Frankie Torres\", \"order\": 40}, {\"cast_id\": 62, \"character\": \"Troupe\", \"credit_id\": \"52fe48009251416c750acacf\", \"gender\": 1, \"id\": 1158600, \"name\": \"Austin Wilson\", \"order\": 41}, {\"cast_id\": 63, \"character\": \"Troupe\", \"credit_id\": \"52fe48019251416c750acad3\", \"gender\": 1, \"id\": 983705, \"name\": \"Sara Wilson\", \"order\": 42}, {\"cast_id\": 64, \"character\": \"Troupe\", \"credit_id\": \"52fe48019251416c750acad7\", \"gender\": 0, \"id\": 1207263, \"name\": \"Tamica Washington-Miller\", \"order\": 43}, {\"cast_id\": 65, \"character\": \"Op Center Staff\", \"credit_id\": \"52fe48019251416c750acadb\", \"gender\": 1, \"id\": 1145098, \"name\": \"Lucy Briant\", \"order\": 44}, {\"cast_id\": 66, \"character\": \"Op Center Staff\", \"credit_id\": \"52fe48019251416c750acadf\", \"gender\": 2, \"id\": 33305, \"name\": \"Nathan Meister\", \"order\": 45}, {\"cast_id\": 67, \"character\": \"Op Center Staff\", \"credit_id\": \"52fe48019251416c750acae3\", \"gender\": 0, \"id\": 1207264, \"name\": \"Gerry Blair\", \"order\": 46}, {\"cast_id\": 68, \"character\": \"Op Center Staff\", \"credit_id\": \"52fe48019251416c750acae7\", \"gender\": 2, \"id\": 33311, \"name\": \"Matthew Chamberlain\", \"order\": 47}, {\"cast_id\": 69, \"character\": \"Op Center Staff\", \"credit_id\": \"52fe48019251416c750acaeb\", \"gender\": 0, \"id\": 1207265, \"name\": \"Paul Yates\", \"order\": 48}, {\"cast_id\": 70, \"character\": \"Op Center Duty Officer\", \"credit_id\": \"52fe48019251416c750acaef\", \"gender\": 0, \"id\": 1207266, \"name\": \"Wray Wilson\", \"order\": 49}, {\"cast_id\": 71, \"character\": \"Op Center Staff\", \"credit_id\": \"52fe48019251416c750acaf3\", \"gender\": 2, \"id\": 54492, \"name\": \"James Gaylyn\", \"order\": 50}, {\"cast_id\": 72, \"character\": \"Dancer\", \"credit_id\": \"52fe48019251416c750acaf7\", \"gender\": 0, \"id\": 1207267, \"name\": \"Melvin Leno Clark III\", \"order\": 51}, {\"cast_id\": 73, \"character\": \"Dancer\", \"credit_id\": \"52fe48019251416c750acafb\", \"gender\": 0, \"id\": 1207268, \"name\": \"Carvon Futrell\", \"order\": 52}, {\"cast_id\": 74, \"character\": \"Dancer\", \"credit_id\": \"52fe48019251416c750acaff\", \"gender\": 0, \"id\": 1207269, \"name\": \"Brandon Jelkes\", \"order\": 53}, {\"cast_id\": 75, \"character\": \"Dancer\", \"credit_id\": \"52fe48019251416c750acb03\", \"gender\": 0, \"id\": 1207270, \"name\": \"Micah Moch\", \"order\": 54}, {\"cast_id\": 76, \"character\": \"Dancer\", \"credit_id\": \"52fe48019251416c750acb07\", \"gender\": 0, \"id\": 1207271, \"name\": \"Hanniyah Muhammad\", \"order\": 55}, {\"cast_id\": 77, \"character\": \"Dancer\", \"credit_id\": \"52fe48019251416c750acb0b\", \"gender\": 0, \"id\": 1207272, \"name\": \"Christopher Nolen\", \"order\": 56}, {\"cast_id\": 78, \"character\": \"Dancer\", \"credit_id\": \"52fe48019251416c750acb0f\", \"gender\": 0, \"id\": 1207273, \"name\": \"Christa Oliver\", \"order\": 57}, {\"cast_id\": 79, \"character\": \"Dancer\", \"credit_id\": \"52fe48019251416c750acb13\", \"gender\": 0, \"id\": 1207274, \"name\": \"April Marie Thomas\", \"order\": 58}, {\"cast_id\": 80, \"character\": \"Dancer\", \"credit_id\": \"52fe48019251416c750acb17\", \"gender\": 0, \"id\": 1207275, \"name\": \"Bravita A. Threatt\", \"order\": 59}, {\"cast_id\": 81, \"character\": \"Mining Chief (uncredited)\", \"credit_id\": \"52fe48019251416c750acb1b\", \"gender\": 0, \"id\": 1207276, \"name\": \"Colin Bleasdale\", \"order\": 60}, {\"cast_id\": 82, \"character\": \"Veteran Miner (uncredited)\", \"credit_id\": \"52fe48019251416c750acb1f\", \"gender\": 0, \"id\": 107969, \"name\": \"Mike Bodnar\", \"order\": 61}, {\"cast_id\": 83, \"character\": \"Richard (uncredited)\", \"credit_id\": \"52fe48019251416c750acb23\", \"gender\": 0, \"id\": 1207278, \"name\": \"Matt Clayton\", \"order\": 62}, {\"cast_id\": 84, \"character\": \"Nav\\'i (uncredited)\", \"credit_id\": \"52fe48019251416c750acb27\", \"gender\": 1, \"id\": 147898, \"name\": \"Nicole Dionne\", \"order\": 63}, {\"cast_id\": 85, \"character\": \"Trooper (uncredited)\", \"credit_id\": \"52fe48019251416c750acb2b\", \"gender\": 0, \"id\": 1207280, \"name\": \"Jamie Harrison\", \"order\": 64}, {\"cast_id\": 86, \"character\": \"Trooper (uncredited)\", \"credit_id\": \"52fe48019251416c750acb2f\", \"gender\": 0, \"id\": 1207281, \"name\": \"Allan Henry\", \"order\": 65}, {\"cast_id\": 87, \"character\": \"Ground Technician (uncredited)\", \"credit_id\": \"52fe48019251416c750acb33\", \"gender\": 2, \"id\": 1207282, \"name\": \"Anthony Ingruber\", \"order\": 66}, {\"cast_id\": 88, \"character\": \"Flight Crew Mechanic (uncredited)\", \"credit_id\": \"52fe48019251416c750acb37\", \"gender\": 0, \"id\": 1207283, \"name\": \"Ashley Jeffery\", \"order\": 67}, {\"cast_id\": 14, \"character\": \"Samson Pilot\", \"credit_id\": \"52fe48009251416c750ac9f9\", \"gender\": 0, \"id\": 98216, \"name\": \"Dean Knowsley\", \"order\": 68}, {\"cast_id\": 89, \"character\": \"Trooper (uncredited)\", \"credit_id\": \"52fe48019251416c750acb3b\", \"gender\": 0, \"id\": 1201399, \"name\": \"Joseph Mika-Hunt\", \"order\": 69}, {\"cast_id\": 90, \"character\": \"Banshee (uncredited)\", \"credit_id\": \"52fe48019251416c750acb3f\", \"gender\": 0, \"id\": 236696, \"name\": \"Terry Notary\", \"order\": 70}, {\"cast_id\": 91, \"character\": \"Soldier (uncredited)\", \"credit_id\": \"52fe48019251416c750acb43\", \"gender\": 0, \"id\": 1207287, \"name\": \"Kai Pantano\", \"order\": 71}, {\"cast_id\": 92, \"character\": \"Blast Technician (uncredited)\", \"credit_id\": \"52fe48019251416c750acb47\", \"gender\": 0, \"id\": 1207288, \"name\": \"Logan Pithyou\", \"order\": 72}, {\"cast_id\": 93, \"character\": \"Vindum Raah (uncredited)\", \"credit_id\": \"52fe48019251416c750acb4b\", \"gender\": 0, \"id\": 1207289, \"name\": \"Stuart Pollock\", \"order\": 73}, {\"cast_id\": 94, \"character\": \"Hero (uncredited)\", \"credit_id\": \"52fe48019251416c750acb4f\", \"gender\": 0, \"id\": 584868, \"name\": \"Raja\", \"order\": 74}, {\"cast_id\": 95, \"character\": \"Ops Centreworker (uncredited)\", \"credit_id\": \"52fe48019251416c750acb53\", \"gender\": 0, \"id\": 1207290, \"name\": \"Gareth Ruck\", \"order\": 75}, {\"cast_id\": 96, \"character\": \"Engineer (uncredited)\", \"credit_id\": \"52fe48019251416c750acb57\", \"gender\": 0, \"id\": 1062463, \"name\": \"Rhian Sheehan\", \"order\": 76}, {\"cast_id\": 97, \"character\": \"Col. Quaritch\\'s Mech Suit (uncredited)\", \"credit_id\": \"52fe48019251416c750acb5b\", \"gender\": 0, \"id\": 60656, \"name\": \"T. J. Storm\", \"order\": 77}, {\"cast_id\": 98, \"character\": \"Female Marine (uncredited)\", \"credit_id\": \"52fe48019251416c750acb5f\", \"gender\": 0, \"id\": 1207291, \"name\": \"Jodie Taylor\", \"order\": 78}, {\"cast_id\": 99, \"character\": \"Ikran Clan Leader (uncredited)\", \"credit_id\": \"52fe48019251416c750acb63\", \"gender\": 1, \"id\": 1186027, \"name\": \"Alicia Vela-Bailey\", \"order\": 79}, {\"cast_id\": 100, \"character\": \"Geologist (uncredited)\", \"credit_id\": \"52fe48019251416c750acb67\", \"gender\": 0, \"id\": 1207292, \"name\": \"Richard Whiteside\", \"order\": 80}, {\"cast_id\": 101, \"character\": \"Na\\'vi (uncredited)\", \"credit_id\": \"52fe48019251416c750acb6b\", \"gender\": 0, \"id\": 103259, \"name\": \"Nikie Zambo\", \"order\": 81}, {\"cast_id\": 102, \"character\": \"Ambient Room Tech / Troupe\", \"credit_id\": \"52fe48019251416c750acb6f\", \"gender\": 1, \"id\": 42286, \"name\": \"Julene Renee\", \"order\": 82}]'"
      ]
     },
     "execution_count": 94,
     "metadata": {},
     "output_type": "execute_result"
    }
   ],
   "source": [
    "movies.iloc[0].cast"
   ]
  },
  {
   "cell_type": "markdown",
   "metadata": {
    "id": "jtkT29vicHhn"
   },
   "source": [
    "Limitting the cast to First 5 Chatacters"
   ]
  },
  {
   "cell_type": "code",
   "execution_count": 95,
   "metadata": {
    "id": "s4ieLqsgZcEL"
   },
   "outputs": [],
   "source": [
    "def convert_cast(obj):\n",
    "  l=[]\n",
    "  counter =0\n",
    "  for i in ast.literal_eval(obj):\n",
    "    if counter!=5:\n",
    "      l.append(i['name'])\n",
    "      counter+=1\n",
    "    else:\n",
    "      break\n",
    "  return l"
   ]
  },
  {
   "cell_type": "code",
   "execution_count": 96,
   "metadata": {
    "id": "jPXp2oqOZb40"
   },
   "outputs": [],
   "source": [
    "movies['cast']=movies['cast'].apply(convert_cast)"
   ]
  },
  {
   "cell_type": "code",
   "execution_count": 97,
   "metadata": {
    "colab": {
     "base_uri": "https://localhost:8080/",
     "height": 81
    },
    "id": "fzupVJ5LciGf",
    "outputId": "7b05c092-8e9d-4c68-b7ac-2bf088c68f0b"
   },
   "outputs": [
    {
     "data": {
      "text/html": [
       "<div>\n",
       "<style scoped>\n",
       "    .dataframe tbody tr th:only-of-type {\n",
       "        vertical-align: middle;\n",
       "    }\n",
       "\n",
       "    .dataframe tbody tr th {\n",
       "        vertical-align: top;\n",
       "    }\n",
       "\n",
       "    .dataframe thead th {\n",
       "        text-align: right;\n",
       "    }\n",
       "</style>\n",
       "<table border=\"1\" class=\"dataframe\">\n",
       "  <thead>\n",
       "    <tr style=\"text-align: right;\">\n",
       "      <th></th>\n",
       "      <th>movie_id</th>\n",
       "      <th>title</th>\n",
       "      <th>overview</th>\n",
       "      <th>genres</th>\n",
       "      <th>keywords</th>\n",
       "      <th>cast</th>\n",
       "      <th>crew</th>\n",
       "    </tr>\n",
       "  </thead>\n",
       "  <tbody>\n",
       "    <tr>\n",
       "      <th>0</th>\n",
       "      <td>19995</td>\n",
       "      <td>Avatar</td>\n",
       "      <td>In the 22nd century, a paraplegic Marine is di...</td>\n",
       "      <td>[Action, Adventure, Fantasy, Science Fiction]</td>\n",
       "      <td>[culture clash, future, space war, space colon...</td>\n",
       "      <td>[Sam Worthington, Zoe Saldana, Sigourney Weave...</td>\n",
       "      <td>[{\"credit_id\": \"52fe48009251416c750aca23\", \"de...</td>\n",
       "    </tr>\n",
       "  </tbody>\n",
       "</table>\n",
       "</div>"
      ],
      "text/plain": [
       "   movie_id   title                                           overview  \\\n",
       "0     19995  Avatar  In the 22nd century, a paraplegic Marine is di...   \n",
       "\n",
       "                                          genres  \\\n",
       "0  [Action, Adventure, Fantasy, Science Fiction]   \n",
       "\n",
       "                                            keywords  \\\n",
       "0  [culture clash, future, space war, space colon...   \n",
       "\n",
       "                                                cast  \\\n",
       "0  [Sam Worthington, Zoe Saldana, Sigourney Weave...   \n",
       "\n",
       "                                                crew  \n",
       "0  [{\"credit_id\": \"52fe48009251416c750aca23\", \"de...  "
      ]
     },
     "execution_count": 97,
     "metadata": {},
     "output_type": "execute_result"
    }
   ],
   "source": [
    "movies.head(1)"
   ]
  },
  {
   "cell_type": "markdown",
   "metadata": {
    "id": "kjPULFVddKbe"
   },
   "source": [
    "Creating Keywords From Crew Column"
   ]
  },
  {
   "cell_type": "code",
   "execution_count": 98,
   "metadata": {
    "id": "0pkrlX52ciCR"
   },
   "outputs": [],
   "source": [
    "def convert_crew(obj):\n",
    "  l=[]\n",
    "  for i in ast.literal_eval(obj):\n",
    "    if i['job']=='Director':\n",
    "      l.append(i['name'])\n",
    "  return l"
   ]
  },
  {
   "cell_type": "markdown",
   "metadata": {
    "id": "Z7EkDTsrfhaY"
   },
   "source": [
    "Extracting only director name from the Crew column"
   ]
  },
  {
   "cell_type": "code",
   "execution_count": 99,
   "metadata": {
    "colab": {
     "base_uri": "https://localhost:8080/",
     "height": 105
    },
    "id": "9mXAsp3vgGB_",
    "outputId": "ff5ccee7-f65f-4f68-8de2-42761bcfed5c",
    "scrolled": true
   },
   "outputs": [
    {
     "data": {
      "text/plain": [
       "'[{\"credit_id\": \"52fe48009251416c750aca23\", \"department\": \"Editing\", \"gender\": 0, \"id\": 1721, \"job\": \"Editor\", \"name\": \"Stephen E. Rivkin\"}, {\"credit_id\": \"539c47ecc3a36810e3001f87\", \"department\": \"Art\", \"gender\": 2, \"id\": 496, \"job\": \"Production Design\", \"name\": \"Rick Carter\"}, {\"credit_id\": \"54491c89c3a3680fb4001cf7\", \"department\": \"Sound\", \"gender\": 0, \"id\": 900, \"job\": \"Sound Designer\", \"name\": \"Christopher Boyes\"}, {\"credit_id\": \"54491cb70e0a267480001bd0\", \"department\": \"Sound\", \"gender\": 0, \"id\": 900, \"job\": \"Supervising Sound Editor\", \"name\": \"Christopher Boyes\"}, {\"credit_id\": \"539c4a4cc3a36810c9002101\", \"department\": \"Production\", \"gender\": 1, \"id\": 1262, \"job\": \"Casting\", \"name\": \"Mali Finn\"}, {\"credit_id\": \"5544ee3b925141499f0008fc\", \"department\": \"Sound\", \"gender\": 2, \"id\": 1729, \"job\": \"Original Music Composer\", \"name\": \"James Horner\"}, {\"credit_id\": \"52fe48009251416c750ac9c3\", \"department\": \"Directing\", \"gender\": 2, \"id\": 2710, \"job\": \"Director\", \"name\": \"James Cameron\"}, {\"credit_id\": \"52fe48009251416c750ac9d9\", \"department\": \"Writing\", \"gender\": 2, \"id\": 2710, \"job\": \"Writer\", \"name\": \"James Cameron\"}, {\"credit_id\": \"52fe48009251416c750aca17\", \"department\": \"Editing\", \"gender\": 2, \"id\": 2710, \"job\": \"Editor\", \"name\": \"James Cameron\"}, {\"credit_id\": \"52fe48009251416c750aca29\", \"department\": \"Production\", \"gender\": 2, \"id\": 2710, \"job\": \"Producer\", \"name\": \"James Cameron\"}, {\"credit_id\": \"52fe48009251416c750aca3f\", \"department\": \"Writing\", \"gender\": 2, \"id\": 2710, \"job\": \"Screenplay\", \"name\": \"James Cameron\"}, {\"credit_id\": \"539c4987c3a36810ba0021a4\", \"department\": \"Art\", \"gender\": 2, \"id\": 7236, \"job\": \"Art Direction\", \"name\": \"Andrew Menzies\"}, {\"credit_id\": \"549598c3c3a3686ae9004383\", \"department\": \"Visual Effects\", \"gender\": 0, \"id\": 6690, \"job\": \"Visual Effects Producer\", \"name\": \"Jill Brooks\"}, {\"credit_id\": \"52fe48009251416c750aca4b\", \"department\": \"Production\", \"gender\": 1, \"id\": 6347, \"job\": \"Casting\", \"name\": \"Margery Simkin\"}, {\"credit_id\": \"570b6f419251417da70032fe\", \"department\": \"Art\", \"gender\": 2, \"id\": 6878, \"job\": \"Supervising Art Director\", \"name\": \"Kevin Ishioka\"}, {\"credit_id\": \"5495a0fac3a3686ae9004468\", \"department\": \"Sound\", \"gender\": 0, \"id\": 6883, \"job\": \"Music Editor\", \"name\": \"Dick Bernstein\"}, {\"credit_id\": \"54959706c3a3686af3003e81\", \"department\": \"Sound\", \"gender\": 0, \"id\": 8159, \"job\": \"Sound Effects Editor\", \"name\": \"Shannon Mills\"}, {\"credit_id\": \"54491d58c3a3680fb1001ccb\", \"department\": \"Sound\", \"gender\": 0, \"id\": 8160, \"job\": \"Foley\", \"name\": \"Dennie Thorpe\"}, {\"credit_id\": \"54491d6cc3a3680fa5001b2c\", \"department\": \"Sound\", \"gender\": 0, \"id\": 8163, \"job\": \"Foley\", \"name\": \"Jana Vance\"}, {\"credit_id\": \"52fe48009251416c750aca57\", \"department\": \"Costume & Make-Up\", \"gender\": 1, \"id\": 8527, \"job\": \"Costume Design\", \"name\": \"Deborah Lynn Scott\"}, {\"credit_id\": \"52fe48009251416c750aca2f\", \"department\": \"Production\", \"gender\": 2, \"id\": 8529, \"job\": \"Producer\", \"name\": \"Jon Landau\"}, {\"credit_id\": \"539c4937c3a36810ba002194\", \"department\": \"Art\", \"gender\": 0, \"id\": 9618, \"job\": \"Art Direction\", \"name\": \"Sean Haworth\"}, {\"credit_id\": \"539c49b6c3a36810c10020e6\", \"department\": \"Art\", \"gender\": 1, \"id\": 12653, \"job\": \"Set Decoration\", \"name\": \"Kim Sinclair\"}, {\"credit_id\": \"570b6f2f9251413a0e00020d\", \"department\": \"Art\", \"gender\": 1, \"id\": 12653, \"job\": \"Supervising Art Director\", \"name\": \"Kim Sinclair\"}, {\"credit_id\": \"54491a6c0e0a26748c001b19\", \"department\": \"Art\", \"gender\": 2, \"id\": 14350, \"job\": \"Set Designer\", \"name\": \"Richard F. Mays\"}, {\"credit_id\": \"56928cf4c3a3684cff0025c4\", \"department\": \"Production\", \"gender\": 1, \"id\": 20294, \"job\": \"Executive Producer\", \"name\": \"Laeta Kalogridis\"}, {\"credit_id\": \"52fe48009251416c750aca51\", \"department\": \"Costume & Make-Up\", \"gender\": 0, \"id\": 17675, \"job\": \"Costume Design\", \"name\": \"Mayes C. Rubeo\"}, {\"credit_id\": \"52fe48009251416c750aca11\", \"department\": \"Camera\", \"gender\": 2, \"id\": 18265, \"job\": \"Director of Photography\", \"name\": \"Mauro Fiore\"}, {\"credit_id\": \"5449194d0e0a26748f001b39\", \"department\": \"Art\", \"gender\": 0, \"id\": 42281, \"job\": \"Set Designer\", \"name\": \"Scott Herbertson\"}, {\"credit_id\": \"52fe48009251416c750aca05\", \"department\": \"Crew\", \"gender\": 0, \"id\": 42288, \"job\": \"Stunts\", \"name\": \"Woody Schultz\"}, {\"credit_id\": \"5592aefb92514152de0010f5\", \"department\": \"Costume & Make-Up\", \"gender\": 0, \"id\": 29067, \"job\": \"Makeup Artist\", \"name\": \"Linda DeVetta\"}, {\"credit_id\": \"5592afa492514152de00112c\", \"department\": \"Costume & Make-Up\", \"gender\": 0, \"id\": 29067, \"job\": \"Hairstylist\", \"name\": \"Linda DeVetta\"}, {\"credit_id\": \"54959ed592514130fc002e5d\", \"department\": \"Camera\", \"gender\": 2, \"id\": 33302, \"job\": \"Camera Operator\", \"name\": \"Richard Bluck\"}, {\"credit_id\": \"539c4891c3a36810ba002147\", \"department\": \"Art\", \"gender\": 2, \"id\": 33303, \"job\": \"Art Direction\", \"name\": \"Simon Bright\"}, {\"credit_id\": \"54959c069251417a81001f3a\", \"department\": \"Visual Effects\", \"gender\": 0, \"id\": 113145, \"job\": \"Visual Effects Supervisor\", \"name\": \"Richard Martin\"}, {\"credit_id\": \"54959a0dc3a3680ff5002c8d\", \"department\": \"Crew\", \"gender\": 2, \"id\": 58188, \"job\": \"Visual Effects Editor\", \"name\": \"Steve R. Moore\"}, {\"credit_id\": \"52fe48009251416c750aca1d\", \"department\": \"Editing\", \"gender\": 2, \"id\": 58871, \"job\": \"Editor\", \"name\": \"John Refoua\"}, {\"credit_id\": \"54491a4dc3a3680fc30018ca\", \"department\": \"Art\", \"gender\": 0, \"id\": 92359, \"job\": \"Set Designer\", \"name\": \"Karl J. Martin\"}, {\"credit_id\": \"52fe48009251416c750aca35\", \"department\": \"Camera\", \"gender\": 1, \"id\": 72201, \"job\": \"Director of Photography\", \"name\": \"Chiling Lin\"}, {\"credit_id\": \"52fe48009251416c750ac9ff\", \"department\": \"Crew\", \"gender\": 0, \"id\": 89714, \"job\": \"Stunts\", \"name\": \"Ilram Choi\"}, {\"credit_id\": \"54959c529251416e2b004394\", \"department\": \"Visual Effects\", \"gender\": 2, \"id\": 93214, \"job\": \"Visual Effects Supervisor\", \"name\": \"Steven Quale\"}, {\"credit_id\": \"54491edf0e0a267489001c37\", \"department\": \"Crew\", \"gender\": 1, \"id\": 122607, \"job\": \"Dialect Coach\", \"name\": \"Carla Meyer\"}, {\"credit_id\": \"539c485bc3a368653d001a3a\", \"department\": \"Art\", \"gender\": 2, \"id\": 132585, \"job\": \"Art Direction\", \"name\": \"Nick Bassett\"}, {\"credit_id\": \"539c4903c3a368653d001a74\", \"department\": \"Art\", \"gender\": 0, \"id\": 132596, \"job\": \"Art Direction\", \"name\": \"Jill Cormack\"}, {\"credit_id\": \"539c4967c3a368653d001a94\", \"department\": \"Art\", \"gender\": 0, \"id\": 132604, \"job\": \"Art Direction\", \"name\": \"Andy McLaren\"}, {\"credit_id\": \"52fe48009251416c750aca45\", \"department\": \"Crew\", \"gender\": 0, \"id\": 236696, \"job\": \"Motion Capture Artist\", \"name\": \"Terry Notary\"}, {\"credit_id\": \"54959e02c3a3680fc60027d2\", \"department\": \"Crew\", \"gender\": 2, \"id\": 956198, \"job\": \"Stunt Coordinator\", \"name\": \"Garrett Warren\"}, {\"credit_id\": \"54959ca3c3a3686ae300438c\", \"department\": \"Visual Effects\", \"gender\": 2, \"id\": 957874, \"job\": \"Visual Effects Supervisor\", \"name\": \"Jonathan Rothbart\"}, {\"credit_id\": \"570b6f519251412c74001b2f\", \"department\": \"Art\", \"gender\": 0, \"id\": 957889, \"job\": \"Supervising Art Director\", \"name\": \"Stefan Dechant\"}, {\"credit_id\": \"570b6f62c3a3680b77007460\", \"department\": \"Art\", \"gender\": 2, \"id\": 959555, \"job\": \"Supervising Art Director\", \"name\": \"Todd Cherniawsky\"}, {\"credit_id\": \"539c4a3ac3a36810da0021cc\", \"department\": \"Production\", \"gender\": 0, \"id\": 1016177, \"job\": \"Casting\", \"name\": \"Miranda Rivers\"}, {\"credit_id\": \"539c482cc3a36810c1002062\", \"department\": \"Art\", \"gender\": 0, \"id\": 1032536, \"job\": \"Production Design\", \"name\": \"Robert Stromberg\"}, {\"credit_id\": \"539c4b65c3a36810c9002125\", \"department\": \"Costume & Make-Up\", \"gender\": 2, \"id\": 1071680, \"job\": \"Costume Design\", \"name\": \"John Harding\"}, {\"credit_id\": \"54959e6692514130fc002e4e\", \"department\": \"Camera\", \"gender\": 0, \"id\": 1177364, \"job\": \"Steadicam Operator\", \"name\": \"Roberto De Angelis\"}, {\"credit_id\": \"539c49f1c3a368653d001aac\", \"department\": \"Costume & Make-Up\", \"gender\": 2, \"id\": 1202850, \"job\": \"Makeup Department Head\", \"name\": \"Mike Smithson\"}, {\"credit_id\": \"5495999ec3a3686ae100460c\", \"department\": \"Visual Effects\", \"gender\": 0, \"id\": 1204668, \"job\": \"Visual Effects Producer\", \"name\": \"Alain Lalanne\"}, {\"credit_id\": \"54959cdfc3a3681153002729\", \"department\": \"Visual Effects\", \"gender\": 0, \"id\": 1206410, \"job\": \"Visual Effects Supervisor\", \"name\": \"Lucas Salton\"}, {\"credit_id\": \"549596239251417a81001eae\", \"department\": \"Crew\", \"gender\": 0, \"id\": 1234266, \"job\": \"Post Production Supervisor\", \"name\": \"Janace Tashjian\"}, {\"credit_id\": \"54959c859251416e1e003efe\", \"department\": \"Visual Effects\", \"gender\": 0, \"id\": 1271932, \"job\": \"Visual Effects Supervisor\", \"name\": \"Stephen Rosenbaum\"}, {\"credit_id\": \"5592af28c3a368775a00105f\", \"department\": \"Costume & Make-Up\", \"gender\": 0, \"id\": 1310064, \"job\": \"Makeup Artist\", \"name\": \"Frankie Karena\"}, {\"credit_id\": \"539c4adfc3a36810e300203b\", \"department\": \"Costume & Make-Up\", \"gender\": 1, \"id\": 1319844, \"job\": \"Costume Supervisor\", \"name\": \"Lisa Lovaas\"}, {\"credit_id\": \"54959b579251416e2b004371\", \"department\": \"Visual Effects\", \"gender\": 0, \"id\": 1327028, \"job\": \"Visual Effects Supervisor\", \"name\": \"Jonathan Fawkner\"}, {\"credit_id\": \"539c48a7c3a36810b5001fa7\", \"department\": \"Art\", \"gender\": 0, \"id\": 1330561, \"job\": \"Art Direction\", \"name\": \"Robert Bavin\"}, {\"credit_id\": \"539c4a71c3a36810da0021e0\", \"department\": \"Costume & Make-Up\", \"gender\": 0, \"id\": 1330567, \"job\": \"Costume Supervisor\", \"name\": \"Anthony Almaraz\"}, {\"credit_id\": \"539c4a8ac3a36810ba0021e4\", \"department\": \"Costume & Make-Up\", \"gender\": 0, \"id\": 1330570, \"job\": \"Costume Supervisor\", \"name\": \"Carolyn M. Fenton\"}, {\"credit_id\": \"539c4ab6c3a36810da0021f0\", \"department\": \"Costume & Make-Up\", \"gender\": 0, \"id\": 1330574, \"job\": \"Costume Supervisor\", \"name\": \"Beth Koenigsberg\"}, {\"credit_id\": \"54491ab70e0a267480001ba2\", \"department\": \"Art\", \"gender\": 0, \"id\": 1336191, \"job\": \"Set Designer\", \"name\": \"Sam Page\"}, {\"credit_id\": \"544919d9c3a3680fc30018bd\", \"department\": \"Art\", \"gender\": 0, \"id\": 1339441, \"job\": \"Set Designer\", \"name\": \"Tex Kadonaga\"}, {\"credit_id\": \"54491cf50e0a267483001b0c\", \"department\": \"Editing\", \"gender\": 0, \"id\": 1352422, \"job\": \"Dialogue Editor\", \"name\": \"Kim Foscato\"}, {\"credit_id\": \"544919f40e0a26748c001b09\", \"department\": \"Art\", \"gender\": 0, \"id\": 1352962, \"job\": \"Set Designer\", \"name\": \"Tammy S. Lee\"}, {\"credit_id\": \"5495a115c3a3680ff5002d71\", \"department\": \"Crew\", \"gender\": 0, \"id\": 1357070, \"job\": \"Transportation Coordinator\", \"name\": \"Denny Caira\"}, {\"credit_id\": \"5495a12f92514130fc002e94\", \"department\": \"Crew\", \"gender\": 0, \"id\": 1357071, \"job\": \"Transportation Coordinator\", \"name\": \"James Waitkus\"}, {\"credit_id\": \"5495976fc3a36811530026b0\", \"department\": \"Sound\", \"gender\": 0, \"id\": 1360103, \"job\": \"Supervising Sound Editor\", \"name\": \"Addison Teague\"}, {\"credit_id\": \"54491837c3a3680fb1001c5a\", \"department\": \"Art\", \"gender\": 2, \"id\": 1376887, \"job\": \"Set Designer\", \"name\": \"C. Scott Baker\"}, {\"credit_id\": \"54491878c3a3680fb4001c9d\", \"department\": \"Art\", \"gender\": 0, \"id\": 1376888, \"job\": \"Set Designer\", \"name\": \"Luke Caska\"}, {\"credit_id\": \"544918dac3a3680fa5001ae0\", \"department\": \"Art\", \"gender\": 0, \"id\": 1376889, \"job\": \"Set Designer\", \"name\": \"David Chow\"}, {\"credit_id\": \"544919110e0a267486001b68\", \"department\": \"Art\", \"gender\": 0, \"id\": 1376890, \"job\": \"Set Designer\", \"name\": \"Jonathan Dyer\"}, {\"credit_id\": \"54491967c3a3680faa001b5e\", \"department\": \"Art\", \"gender\": 0, \"id\": 1376891, \"job\": \"Set Designer\", \"name\": \"Joseph Hiura\"}, {\"credit_id\": \"54491997c3a3680fb1001c8a\", \"department\": \"Art\", \"gender\": 0, \"id\": 1376892, \"job\": \"Art Department Coordinator\", \"name\": \"Rebecca Jellie\"}, {\"credit_id\": \"544919ba0e0a26748f001b42\", \"department\": \"Art\", \"gender\": 0, \"id\": 1376893, \"job\": \"Set Designer\", \"name\": \"Robert Andrew Johnson\"}, {\"credit_id\": \"54491b1dc3a3680faa001b8c\", \"department\": \"Art\", \"gender\": 0, \"id\": 1376895, \"job\": \"Assistant Art Director\", \"name\": \"Mike Stassi\"}, {\"credit_id\": \"54491b79c3a3680fbb001826\", \"department\": \"Art\", \"gender\": 0, \"id\": 1376897, \"job\": \"Construction Coordinator\", \"name\": \"John Villarino\"}, {\"credit_id\": \"54491baec3a3680fb4001ce6\", \"department\": \"Art\", \"gender\": 2, \"id\": 1376898, \"job\": \"Assistant Art Director\", \"name\": \"Jeffrey Wisniewski\"}, {\"credit_id\": \"54491d2fc3a3680fb4001d07\", \"department\": \"Editing\", \"gender\": 0, \"id\": 1376899, \"job\": \"Dialogue Editor\", \"name\": \"Cheryl Nardi\"}, {\"credit_id\": \"54491d86c3a3680fa5001b2f\", \"department\": \"Editing\", \"gender\": 0, \"id\": 1376901, \"job\": \"Dialogue Editor\", \"name\": \"Marshall Winn\"}, {\"credit_id\": \"54491d9dc3a3680faa001bb0\", \"department\": \"Sound\", \"gender\": 0, \"id\": 1376902, \"job\": \"Supervising Sound Editor\", \"name\": \"Gwendolyn Yates Whittle\"}, {\"credit_id\": \"54491dc10e0a267486001bce\", \"department\": \"Sound\", \"gender\": 0, \"id\": 1376903, \"job\": \"Sound Re-Recording Mixer\", \"name\": \"William Stein\"}, {\"credit_id\": \"54491f500e0a26747c001c07\", \"department\": \"Crew\", \"gender\": 0, \"id\": 1376909, \"job\": \"Choreographer\", \"name\": \"Lula Washington\"}, {\"credit_id\": \"549599239251412c4e002a2e\", \"department\": \"Visual Effects\", \"gender\": 0, \"id\": 1391692, \"job\": \"Visual Effects Producer\", \"name\": \"Chris Del Conte\"}, {\"credit_id\": \"54959d54c3a36831b8001d9a\", \"department\": \"Visual Effects\", \"gender\": 2, \"id\": 1391695, \"job\": \"Visual Effects Supervisor\", \"name\": \"R. Christopher White\"}, {\"credit_id\": \"54959bdf9251412c4e002a66\", \"department\": \"Visual Effects\", \"gender\": 0, \"id\": 1394070, \"job\": \"Visual Effects Supervisor\", \"name\": \"Dan Lemmon\"}, {\"credit_id\": \"5495971d92514132ed002922\", \"department\": \"Sound\", \"gender\": 0, \"id\": 1394129, \"job\": \"Sound Effects Editor\", \"name\": \"Tim Nielsen\"}, {\"credit_id\": \"5592b25792514152cc0011aa\", \"department\": \"Crew\", \"gender\": 0, \"id\": 1394286, \"job\": \"CG Supervisor\", \"name\": \"Michael Mulholland\"}, {\"credit_id\": \"54959a329251416e2b004355\", \"department\": \"Crew\", \"gender\": 0, \"id\": 1394750, \"job\": \"Visual Effects Editor\", \"name\": \"Thomas Nittmann\"}, {\"credit_id\": \"54959d6dc3a3686ae9004401\", \"department\": \"Visual Effects\", \"gender\": 0, \"id\": 1394755, \"job\": \"Visual Effects Supervisor\", \"name\": \"Edson Williams\"}, {\"credit_id\": \"5495a08fc3a3686ae300441c\", \"department\": \"Editing\", \"gender\": 0, \"id\": 1394953, \"job\": \"Digital Intermediate\", \"name\": \"Christine Carr\"}, {\"credit_id\": \"55402d659251413d6d000249\", \"department\": \"Visual Effects\", \"gender\": 0, \"id\": 1395269, \"job\": \"Visual Effects Supervisor\", \"name\": \"John Bruno\"}, {\"credit_id\": \"54959e7b9251416e1e003f3e\", \"department\": \"Camera\", \"gender\": 0, \"id\": 1398970, \"job\": \"Steadicam Operator\", \"name\": \"David Emmerichs\"}, {\"credit_id\": \"54959734c3a3686ae10045e0\", \"department\": \"Sound\", \"gender\": 0, \"id\": 1400906, \"job\": \"Sound Effects Editor\", \"name\": \"Christopher Scarabosio\"}, {\"credit_id\": \"549595dd92514130fc002d79\", \"department\": \"Production\", \"gender\": 0, \"id\": 1401784, \"job\": \"Production Supervisor\", \"name\": \"Jennifer Teves\"}, {\"credit_id\": \"549596009251413af70028cc\", \"department\": \"Production\", \"gender\": 0, \"id\": 1401785, \"job\": \"Production Manager\", \"name\": \"Brigitte Yorke\"}, {\"credit_id\": \"549596e892514130fc002d99\", \"department\": \"Sound\", \"gender\": 0, \"id\": 1401786, \"job\": \"Sound Effects Editor\", \"name\": \"Ken Fischer\"}, {\"credit_id\": \"549598229251412c4e002a1c\", \"department\": \"Crew\", \"gender\": 0, \"id\": 1401787, \"job\": \"Special Effects Coordinator\", \"name\": \"Iain Hutton\"}, {\"credit_id\": \"549598349251416e2b00432b\", \"department\": \"Crew\", \"gender\": 0, \"id\": 1401788, \"job\": \"Special Effects Coordinator\", \"name\": \"Steve Ingram\"}, {\"credit_id\": \"54959905c3a3686ae3004324\", \"department\": \"Visual Effects\", \"gender\": 0, \"id\": 1401789, \"job\": \"Visual Effects Producer\", \"name\": \"Joyce Cox\"}, {\"credit_id\": \"5495994b92514132ed002951\", \"department\": \"Visual Effects\", \"gender\": 0, \"id\": 1401790, \"job\": \"Visual Effects Producer\", \"name\": \"Jenny Foster\"}, {\"credit_id\": \"549599cbc3a3686ae1004613\", \"department\": \"Crew\", \"gender\": 0, \"id\": 1401791, \"job\": \"Visual Effects Editor\", \"name\": \"Christopher Marino\"}, {\"credit_id\": \"549599f2c3a3686ae100461e\", \"department\": \"Crew\", \"gender\": 0, \"id\": 1401792, \"job\": \"Visual Effects Editor\", \"name\": \"Jim Milton\"}, {\"credit_id\": \"54959a51c3a3686af3003eb5\", \"department\": \"Visual Effects\", \"gender\": 0, \"id\": 1401793, \"job\": \"Visual Effects Producer\", \"name\": \"Cyndi Ochs\"}, {\"credit_id\": \"54959a7cc3a36811530026f4\", \"department\": \"Crew\", \"gender\": 0, \"id\": 1401794, \"job\": \"Visual Effects Editor\", \"name\": \"Lucas Putnam\"}, {\"credit_id\": \"54959b91c3a3680ff5002cb4\", \"department\": \"Visual Effects\", \"gender\": 0, \"id\": 1401795, \"job\": \"Visual Effects Supervisor\", \"name\": \"Anthony \\'Max\\' Ivins\"}, {\"credit_id\": \"54959bb69251412c4e002a5f\", \"department\": \"Visual Effects\", \"gender\": 0, \"id\": 1401796, \"job\": \"Visual Effects Supervisor\", \"name\": \"John Knoll\"}, {\"credit_id\": \"54959cbbc3a3686ae3004391\", \"department\": \"Visual Effects\", \"gender\": 2, \"id\": 1401799, \"job\": \"Visual Effects Supervisor\", \"name\": \"Eric Saindon\"}, {\"credit_id\": \"54959d06c3a3686ae90043f6\", \"department\": \"Visual Effects\", \"gender\": 0, \"id\": 1401800, \"job\": \"Visual Effects Supervisor\", \"name\": \"Wayne Stables\"}, {\"credit_id\": \"54959d259251416e1e003f11\", \"department\": \"Visual Effects\", \"gender\": 0, \"id\": 1401801, \"job\": \"Visual Effects Supervisor\", \"name\": \"David Stinnett\"}, {\"credit_id\": \"54959db49251413af7002975\", \"department\": \"Visual Effects\", \"gender\": 0, \"id\": 1401803, \"job\": \"Visual Effects Supervisor\", \"name\": \"Guy Williams\"}, {\"credit_id\": \"54959de4c3a3681153002750\", \"department\": \"Crew\", \"gender\": 0, \"id\": 1401804, \"job\": \"Stunt Coordinator\", \"name\": \"Stuart Thorp\"}, {\"credit_id\": \"54959ef2c3a3680fc60027f2\", \"department\": \"Lighting\", \"gender\": 0, \"id\": 1401805, \"job\": \"Best Boy Electric\", \"name\": \"Giles Coburn\"}, {\"credit_id\": \"54959f07c3a3680fc60027f9\", \"department\": \"Camera\", \"gender\": 2, \"id\": 1401806, \"job\": \"Still Photographer\", \"name\": \"Mark Fellman\"}, {\"credit_id\": \"54959f47c3a3681153002774\", \"department\": \"Lighting\", \"gender\": 0, \"id\": 1401807, \"job\": \"Lighting Technician\", \"name\": \"Scott Sprague\"}, {\"credit_id\": \"54959f8cc3a36831b8001df2\", \"department\": \"Visual Effects\", \"gender\": 0, \"id\": 1401808, \"job\": \"Animation Director\", \"name\": \"Jeremy Hollobon\"}, {\"credit_id\": \"54959fa0c3a36831b8001dfb\", \"department\": \"Visual Effects\", \"gender\": 0, \"id\": 1401809, \"job\": \"Animation Director\", \"name\": \"Orlando Meunier\"}, {\"credit_id\": \"54959fb6c3a3686af3003f54\", \"department\": \"Visual Effects\", \"gender\": 0, \"id\": 1401810, \"job\": \"Animation Director\", \"name\": \"Taisuke Tanimura\"}, {\"credit_id\": \"54959fd2c3a36831b8001e02\", \"department\": \"Costume & Make-Up\", \"gender\": 0, \"id\": 1401812, \"job\": \"Set Costumer\", \"name\": \"Lilia Mishel Acevedo\"}, {\"credit_id\": \"54959ff9c3a3686ae300440c\", \"department\": \"Costume & Make-Up\", \"gender\": 0, \"id\": 1401814, \"job\": \"Set Costumer\", \"name\": \"Alejandro M. Hernandez\"}, {\"credit_id\": \"5495a0ddc3a3686ae10046fe\", \"department\": \"Editing\", \"gender\": 0, \"id\": 1401815, \"job\": \"Digital Intermediate\", \"name\": \"Marvin Hall\"}, {\"credit_id\": \"5495a1f7c3a3686ae3004443\", \"department\": \"Production\", \"gender\": 0, \"id\": 1401816, \"job\": \"Publicist\", \"name\": \"Judy Alley\"}, {\"credit_id\": \"5592b29fc3a36869d100002f\", \"department\": \"Crew\", \"gender\": 0, \"id\": 1418381, \"job\": \"CG Supervisor\", \"name\": \"Mike Perry\"}, {\"credit_id\": \"5592b23a9251415df8001081\", \"department\": \"Crew\", \"gender\": 0, \"id\": 1426854, \"job\": \"CG Supervisor\", \"name\": \"Andrew Morley\"}, {\"credit_id\": \"55491e1192514104c40002d8\", \"department\": \"Art\", \"gender\": 0, \"id\": 1438901, \"job\": \"Conceptual Design\", \"name\": \"Seth Engstrom\"}, {\"credit_id\": \"5525d5809251417276002b06\", \"department\": \"Crew\", \"gender\": 0, \"id\": 1447362, \"job\": \"Visual Effects Art Director\", \"name\": \"Eric Oliver\"}, {\"credit_id\": \"554427ca925141586500312a\", \"department\": \"Visual Effects\", \"gender\": 0, \"id\": 1447503, \"job\": \"Modeling\", \"name\": \"Matsune Suzuki\"}, {\"credit_id\": \"551906889251415aab001c88\", \"department\": \"Art\", \"gender\": 0, \"id\": 1447524, \"job\": \"Art Department Manager\", \"name\": \"Paul Tobin\"}, {\"credit_id\": \"5592af8492514152cc0010de\", \"department\": \"Costume & Make-Up\", \"gender\": 0, \"id\": 1452643, \"job\": \"Hairstylist\", \"name\": \"Roxane Griffin\"}, {\"credit_id\": \"553d3c109251415852001318\", \"department\": \"Lighting\", \"gender\": 0, \"id\": 1453938, \"job\": \"Lighting Artist\", \"name\": \"Arun Ram-Mohan\"}, {\"credit_id\": \"5592af4692514152d5001355\", \"department\": \"Costume & Make-Up\", \"gender\": 0, \"id\": 1457305, \"job\": \"Makeup Artist\", \"name\": \"Georgia Lockhart-Adams\"}, {\"credit_id\": \"5592b2eac3a36877470012a5\", \"department\": \"Crew\", \"gender\": 0, \"id\": 1466035, \"job\": \"CG Supervisor\", \"name\": \"Thrain Shadbolt\"}, {\"credit_id\": \"5592b032c3a36877450015f1\", \"department\": \"Crew\", \"gender\": 0, \"id\": 1483220, \"job\": \"CG Supervisor\", \"name\": \"Brad Alexander\"}, {\"credit_id\": \"5592b05592514152d80012f6\", \"department\": \"Crew\", \"gender\": 0, \"id\": 1483221, \"job\": \"CG Supervisor\", \"name\": \"Shadi Almassizadeh\"}, {\"credit_id\": \"5592b090c3a36877570010b5\", \"department\": \"Crew\", \"gender\": 0, \"id\": 1483222, \"job\": \"CG Supervisor\", \"name\": \"Simon Clutterbuck\"}, {\"credit_id\": \"5592b0dbc3a368774b00112c\", \"department\": \"Crew\", \"gender\": 0, \"id\": 1483223, \"job\": \"CG Supervisor\", \"name\": \"Graeme Demmocks\"}, {\"credit_id\": \"5592b0fe92514152db0010c1\", \"department\": \"Crew\", \"gender\": 0, \"id\": 1483224, \"job\": \"CG Supervisor\", \"name\": \"Adrian Fernandes\"}, {\"credit_id\": \"5592b11f9251415df8001059\", \"department\": \"Crew\", \"gender\": 0, \"id\": 1483225, \"job\": \"CG Supervisor\", \"name\": \"Mitch Gates\"}, {\"credit_id\": \"5592b15dc3a3687745001645\", \"department\": \"Crew\", \"gender\": 0, \"id\": 1483226, \"job\": \"CG Supervisor\", \"name\": \"Jerry Kung\"}, {\"credit_id\": \"5592b18e925141645a0004ae\", \"department\": \"Crew\", \"gender\": 0, \"id\": 1483227, \"job\": \"CG Supervisor\", \"name\": \"Andy Lomas\"}, {\"credit_id\": \"5592b1bfc3a368775d0010e7\", \"department\": \"Crew\", \"gender\": 0, \"id\": 1483228, \"job\": \"CG Supervisor\", \"name\": \"Sebastian Marino\"}, {\"credit_id\": \"5592b2049251415df8001078\", \"department\": \"Crew\", \"gender\": 0, \"id\": 1483229, \"job\": \"CG Supervisor\", \"name\": \"Matthias Menz\"}, {\"credit_id\": \"5592b27b92514152d800136a\", \"department\": \"Crew\", \"gender\": 0, \"id\": 1483230, \"job\": \"CG Supervisor\", \"name\": \"Sergei Nevshupov\"}, {\"credit_id\": \"5592b2c3c3a36869e800003c\", \"department\": \"Crew\", \"gender\": 0, \"id\": 1483231, \"job\": \"CG Supervisor\", \"name\": \"Philippe Rebours\"}, {\"credit_id\": \"5592b317c3a36877470012af\", \"department\": \"Crew\", \"gender\": 0, \"id\": 1483232, \"job\": \"CG Supervisor\", \"name\": \"Michael Takarangi\"}, {\"credit_id\": \"5592b345c3a36877470012bb\", \"department\": \"Crew\", \"gender\": 0, \"id\": 1483233, \"job\": \"CG Supervisor\", \"name\": \"David Weitzberg\"}, {\"credit_id\": \"5592b37cc3a368775100113b\", \"department\": \"Crew\", \"gender\": 0, \"id\": 1483234, \"job\": \"CG Supervisor\", \"name\": \"Ben White\"}, {\"credit_id\": \"573c8e2f9251413f5d000094\", \"department\": \"Crew\", \"gender\": 1, \"id\": 1621932, \"job\": \"Stunts\", \"name\": \"Min Windle\"}]'"
      ]
     },
     "execution_count": 99,
     "metadata": {},
     "output_type": "execute_result"
    }
   ],
   "source": [
    "movies.iloc[0].crew"
   ]
  },
  {
   "cell_type": "code",
   "execution_count": 100,
   "metadata": {
    "id": "_K3TFDaBch_4"
   },
   "outputs": [],
   "source": [
    "movies['crew']=movies['crew'].apply(convert_crew)"
   ]
  },
  {
   "cell_type": "code",
   "execution_count": 101,
   "metadata": {
    "colab": {
     "base_uri": "https://localhost:8080/",
     "height": 81
    },
    "id": "k6CN2hD8fqdB",
    "outputId": "ff1cf3e3-68ed-432e-912b-185c86ac95e2"
   },
   "outputs": [
    {
     "data": {
      "text/html": [
       "<div>\n",
       "<style scoped>\n",
       "    .dataframe tbody tr th:only-of-type {\n",
       "        vertical-align: middle;\n",
       "    }\n",
       "\n",
       "    .dataframe tbody tr th {\n",
       "        vertical-align: top;\n",
       "    }\n",
       "\n",
       "    .dataframe thead th {\n",
       "        text-align: right;\n",
       "    }\n",
       "</style>\n",
       "<table border=\"1\" class=\"dataframe\">\n",
       "  <thead>\n",
       "    <tr style=\"text-align: right;\">\n",
       "      <th></th>\n",
       "      <th>movie_id</th>\n",
       "      <th>title</th>\n",
       "      <th>overview</th>\n",
       "      <th>genres</th>\n",
       "      <th>keywords</th>\n",
       "      <th>cast</th>\n",
       "      <th>crew</th>\n",
       "    </tr>\n",
       "  </thead>\n",
       "  <tbody>\n",
       "    <tr>\n",
       "      <th>0</th>\n",
       "      <td>19995</td>\n",
       "      <td>Avatar</td>\n",
       "      <td>In the 22nd century, a paraplegic Marine is di...</td>\n",
       "      <td>[Action, Adventure, Fantasy, Science Fiction]</td>\n",
       "      <td>[culture clash, future, space war, space colon...</td>\n",
       "      <td>[Sam Worthington, Zoe Saldana, Sigourney Weave...</td>\n",
       "      <td>[James Cameron]</td>\n",
       "    </tr>\n",
       "  </tbody>\n",
       "</table>\n",
       "</div>"
      ],
      "text/plain": [
       "   movie_id   title                                           overview  \\\n",
       "0     19995  Avatar  In the 22nd century, a paraplegic Marine is di...   \n",
       "\n",
       "                                          genres  \\\n",
       "0  [Action, Adventure, Fantasy, Science Fiction]   \n",
       "\n",
       "                                            keywords  \\\n",
       "0  [culture clash, future, space war, space colon...   \n",
       "\n",
       "                                                cast             crew  \n",
       "0  [Sam Worthington, Zoe Saldana, Sigourney Weave...  [James Cameron]  "
      ]
     },
     "execution_count": 101,
     "metadata": {},
     "output_type": "execute_result"
    }
   ],
   "source": [
    "movies.head(1)"
   ]
  },
  {
   "cell_type": "markdown",
   "metadata": {
    "id": "1gpuBvm6hacA"
   },
   "source": [
    "Creating keywords from Overview column"
   ]
  },
  {
   "cell_type": "code",
   "execution_count": 102,
   "metadata": {
    "colab": {
     "base_uri": "https://localhost:8080/",
     "height": 35
    },
    "id": "sbk3zmRYfrOF",
    "outputId": "795010bf-4509-448b-e9ea-d37a2f96a851"
   },
   "outputs": [
    {
     "data": {
      "text/plain": [
       "'In the 22nd century, a paraplegic Marine is dispatched to the moon Pandora on a unique mission, but becomes torn between following orders and protecting an alien civilization.'"
      ]
     },
     "execution_count": 102,
     "metadata": {},
     "output_type": "execute_result"
    }
   ],
   "source": [
    "movies.iloc[0].overview"
   ]
  },
  {
   "cell_type": "markdown",
   "metadata": {
    "id": "NKWAab2diJ3G"
   },
   "source": [
    "Converting the string to lsit"
   ]
  },
  {
   "cell_type": "code",
   "execution_count": 103,
   "metadata": {
    "id": "dt0YkkxXfrFf",
    "scrolled": false
   },
   "outputs": [],
   "source": [
    "movies['overview'] = movies['overview'].apply(lambda x:x.split())"
   ]
  },
  {
   "cell_type": "code",
   "execution_count": 104,
   "metadata": {
    "colab": {
     "base_uri": "https://localhost:8080/",
     "height": 206
    },
    "id": "uiwgc4gRfq83",
    "outputId": "a2617885-79a8-4aa7-879d-7b959122f5de"
   },
   "outputs": [
    {
     "data": {
      "text/html": [
       "<div>\n",
       "<style scoped>\n",
       "    .dataframe tbody tr th:only-of-type {\n",
       "        vertical-align: middle;\n",
       "    }\n",
       "\n",
       "    .dataframe tbody tr th {\n",
       "        vertical-align: top;\n",
       "    }\n",
       "\n",
       "    .dataframe thead th {\n",
       "        text-align: right;\n",
       "    }\n",
       "</style>\n",
       "<table border=\"1\" class=\"dataframe\">\n",
       "  <thead>\n",
       "    <tr style=\"text-align: right;\">\n",
       "      <th></th>\n",
       "      <th>movie_id</th>\n",
       "      <th>title</th>\n",
       "      <th>overview</th>\n",
       "      <th>genres</th>\n",
       "      <th>keywords</th>\n",
       "      <th>cast</th>\n",
       "      <th>crew</th>\n",
       "    </tr>\n",
       "  </thead>\n",
       "  <tbody>\n",
       "    <tr>\n",
       "      <th>0</th>\n",
       "      <td>19995</td>\n",
       "      <td>Avatar</td>\n",
       "      <td>[In, the, 22nd, century,, a, paraplegic, Marin...</td>\n",
       "      <td>[Action, Adventure, Fantasy, Science Fiction]</td>\n",
       "      <td>[culture clash, future, space war, space colon...</td>\n",
       "      <td>[Sam Worthington, Zoe Saldana, Sigourney Weave...</td>\n",
       "      <td>[James Cameron]</td>\n",
       "    </tr>\n",
       "    <tr>\n",
       "      <th>1</th>\n",
       "      <td>285</td>\n",
       "      <td>Pirates of the Caribbean: At World's End</td>\n",
       "      <td>[Captain, Barbossa,, long, believed, to, be, d...</td>\n",
       "      <td>[Adventure, Fantasy, Action]</td>\n",
       "      <td>[ocean, drug abuse, exotic island, east india ...</td>\n",
       "      <td>[Johnny Depp, Orlando Bloom, Keira Knightley, ...</td>\n",
       "      <td>[Gore Verbinski]</td>\n",
       "    </tr>\n",
       "    <tr>\n",
       "      <th>2</th>\n",
       "      <td>206647</td>\n",
       "      <td>Spectre</td>\n",
       "      <td>[A, cryptic, message, from, Bond’s, past, send...</td>\n",
       "      <td>[Action, Adventure, Crime]</td>\n",
       "      <td>[spy, based on novel, secret agent, sequel, mi...</td>\n",
       "      <td>[Daniel Craig, Christoph Waltz, Léa Seydoux, R...</td>\n",
       "      <td>[Sam Mendes]</td>\n",
       "    </tr>\n",
       "    <tr>\n",
       "      <th>3</th>\n",
       "      <td>49026</td>\n",
       "      <td>The Dark Knight Rises</td>\n",
       "      <td>[Following, the, death, of, District, Attorney...</td>\n",
       "      <td>[Action, Crime, Drama, Thriller]</td>\n",
       "      <td>[dc comics, crime fighter, terrorist, secret i...</td>\n",
       "      <td>[Christian Bale, Michael Caine, Gary Oldman, A...</td>\n",
       "      <td>[Christopher Nolan]</td>\n",
       "    </tr>\n",
       "    <tr>\n",
       "      <th>4</th>\n",
       "      <td>49529</td>\n",
       "      <td>John Carter</td>\n",
       "      <td>[John, Carter, is, a, war-weary,, former, mili...</td>\n",
       "      <td>[Action, Adventure, Science Fiction]</td>\n",
       "      <td>[based on novel, mars, medallion, space travel...</td>\n",
       "      <td>[Taylor Kitsch, Lynn Collins, Samantha Morton,...</td>\n",
       "      <td>[Andrew Stanton]</td>\n",
       "    </tr>\n",
       "  </tbody>\n",
       "</table>\n",
       "</div>"
      ],
      "text/plain": [
       "   movie_id                                     title  \\\n",
       "0     19995                                    Avatar   \n",
       "1       285  Pirates of the Caribbean: At World's End   \n",
       "2    206647                                   Spectre   \n",
       "3     49026                     The Dark Knight Rises   \n",
       "4     49529                               John Carter   \n",
       "\n",
       "                                            overview  \\\n",
       "0  [In, the, 22nd, century,, a, paraplegic, Marin...   \n",
       "1  [Captain, Barbossa,, long, believed, to, be, d...   \n",
       "2  [A, cryptic, message, from, Bond’s, past, send...   \n",
       "3  [Following, the, death, of, District, Attorney...   \n",
       "4  [John, Carter, is, a, war-weary,, former, mili...   \n",
       "\n",
       "                                          genres  \\\n",
       "0  [Action, Adventure, Fantasy, Science Fiction]   \n",
       "1                   [Adventure, Fantasy, Action]   \n",
       "2                     [Action, Adventure, Crime]   \n",
       "3               [Action, Crime, Drama, Thriller]   \n",
       "4           [Action, Adventure, Science Fiction]   \n",
       "\n",
       "                                            keywords  \\\n",
       "0  [culture clash, future, space war, space colon...   \n",
       "1  [ocean, drug abuse, exotic island, east india ...   \n",
       "2  [spy, based on novel, secret agent, sequel, mi...   \n",
       "3  [dc comics, crime fighter, terrorist, secret i...   \n",
       "4  [based on novel, mars, medallion, space travel...   \n",
       "\n",
       "                                                cast                 crew  \n",
       "0  [Sam Worthington, Zoe Saldana, Sigourney Weave...      [James Cameron]  \n",
       "1  [Johnny Depp, Orlando Bloom, Keira Knightley, ...     [Gore Verbinski]  \n",
       "2  [Daniel Craig, Christoph Waltz, Léa Seydoux, R...         [Sam Mendes]  \n",
       "3  [Christian Bale, Michael Caine, Gary Oldman, A...  [Christopher Nolan]  \n",
       "4  [Taylor Kitsch, Lynn Collins, Samantha Morton,...     [Andrew Stanton]  "
      ]
     },
     "execution_count": 104,
     "metadata": {},
     "output_type": "execute_result"
    }
   ],
   "source": [
    "movies.head()"
   ]
  },
  {
   "cell_type": "markdown",
   "metadata": {
    "id": "2bP_zqSMkfga"
   },
   "source": [
    "Removing the sapces between the words to train the model in a better way"
   ]
  },
  {
   "cell_type": "code",
   "execution_count": 105,
   "metadata": {
    "id": "mShonfe9kr_7"
   },
   "outputs": [],
   "source": [
    "movies['genres'] = movies['genres'].apply(lambda x:[i.replace('','')for i in x])\n",
    "movies['keywords'] = movies['keywords'].apply(lambda x:[i.replace('','')for i in x])\n",
    "movies['cast'] = movies['cast'].apply(lambda x:[i.replace('','')for i in x])\n",
    "movies['crew'] = movies['crew'].apply(lambda x:[i.replace('','')for i in x])"
   ]
  },
  {
   "cell_type": "code",
   "execution_count": 106,
   "metadata": {
    "colab": {
     "base_uri": "https://localhost:8080/",
     "height": 206
    },
    "id": "GjlAdWGLksmV",
    "outputId": "31ce979a-71b1-4bf6-860d-27683564f7a1",
    "scrolled": false
   },
   "outputs": [
    {
     "data": {
      "text/html": [
       "<div>\n",
       "<style scoped>\n",
       "    .dataframe tbody tr th:only-of-type {\n",
       "        vertical-align: middle;\n",
       "    }\n",
       "\n",
       "    .dataframe tbody tr th {\n",
       "        vertical-align: top;\n",
       "    }\n",
       "\n",
       "    .dataframe thead th {\n",
       "        text-align: right;\n",
       "    }\n",
       "</style>\n",
       "<table border=\"1\" class=\"dataframe\">\n",
       "  <thead>\n",
       "    <tr style=\"text-align: right;\">\n",
       "      <th></th>\n",
       "      <th>movie_id</th>\n",
       "      <th>title</th>\n",
       "      <th>overview</th>\n",
       "      <th>genres</th>\n",
       "      <th>keywords</th>\n",
       "      <th>cast</th>\n",
       "      <th>crew</th>\n",
       "    </tr>\n",
       "  </thead>\n",
       "  <tbody>\n",
       "    <tr>\n",
       "      <th>0</th>\n",
       "      <td>19995</td>\n",
       "      <td>Avatar</td>\n",
       "      <td>[In, the, 22nd, century,, a, paraplegic, Marin...</td>\n",
       "      <td>[Action, Adventure, Fantasy, Science Fiction]</td>\n",
       "      <td>[culture clash, future, space war, space colon...</td>\n",
       "      <td>[Sam Worthington, Zoe Saldana, Sigourney Weave...</td>\n",
       "      <td>[James Cameron]</td>\n",
       "    </tr>\n",
       "    <tr>\n",
       "      <th>1</th>\n",
       "      <td>285</td>\n",
       "      <td>Pirates of the Caribbean: At World's End</td>\n",
       "      <td>[Captain, Barbossa,, long, believed, to, be, d...</td>\n",
       "      <td>[Adventure, Fantasy, Action]</td>\n",
       "      <td>[ocean, drug abuse, exotic island, east india ...</td>\n",
       "      <td>[Johnny Depp, Orlando Bloom, Keira Knightley, ...</td>\n",
       "      <td>[Gore Verbinski]</td>\n",
       "    </tr>\n",
       "    <tr>\n",
       "      <th>2</th>\n",
       "      <td>206647</td>\n",
       "      <td>Spectre</td>\n",
       "      <td>[A, cryptic, message, from, Bond’s, past, send...</td>\n",
       "      <td>[Action, Adventure, Crime]</td>\n",
       "      <td>[spy, based on novel, secret agent, sequel, mi...</td>\n",
       "      <td>[Daniel Craig, Christoph Waltz, Léa Seydoux, R...</td>\n",
       "      <td>[Sam Mendes]</td>\n",
       "    </tr>\n",
       "    <tr>\n",
       "      <th>3</th>\n",
       "      <td>49026</td>\n",
       "      <td>The Dark Knight Rises</td>\n",
       "      <td>[Following, the, death, of, District, Attorney...</td>\n",
       "      <td>[Action, Crime, Drama, Thriller]</td>\n",
       "      <td>[dc comics, crime fighter, terrorist, secret i...</td>\n",
       "      <td>[Christian Bale, Michael Caine, Gary Oldman, A...</td>\n",
       "      <td>[Christopher Nolan]</td>\n",
       "    </tr>\n",
       "    <tr>\n",
       "      <th>4</th>\n",
       "      <td>49529</td>\n",
       "      <td>John Carter</td>\n",
       "      <td>[John, Carter, is, a, war-weary,, former, mili...</td>\n",
       "      <td>[Action, Adventure, Science Fiction]</td>\n",
       "      <td>[based on novel, mars, medallion, space travel...</td>\n",
       "      <td>[Taylor Kitsch, Lynn Collins, Samantha Morton,...</td>\n",
       "      <td>[Andrew Stanton]</td>\n",
       "    </tr>\n",
       "  </tbody>\n",
       "</table>\n",
       "</div>"
      ],
      "text/plain": [
       "   movie_id                                     title  \\\n",
       "0     19995                                    Avatar   \n",
       "1       285  Pirates of the Caribbean: At World's End   \n",
       "2    206647                                   Spectre   \n",
       "3     49026                     The Dark Knight Rises   \n",
       "4     49529                               John Carter   \n",
       "\n",
       "                                            overview  \\\n",
       "0  [In, the, 22nd, century,, a, paraplegic, Marin...   \n",
       "1  [Captain, Barbossa,, long, believed, to, be, d...   \n",
       "2  [A, cryptic, message, from, Bond’s, past, send...   \n",
       "3  [Following, the, death, of, District, Attorney...   \n",
       "4  [John, Carter, is, a, war-weary,, former, mili...   \n",
       "\n",
       "                                          genres  \\\n",
       "0  [Action, Adventure, Fantasy, Science Fiction]   \n",
       "1                   [Adventure, Fantasy, Action]   \n",
       "2                     [Action, Adventure, Crime]   \n",
       "3               [Action, Crime, Drama, Thriller]   \n",
       "4           [Action, Adventure, Science Fiction]   \n",
       "\n",
       "                                            keywords  \\\n",
       "0  [culture clash, future, space war, space colon...   \n",
       "1  [ocean, drug abuse, exotic island, east india ...   \n",
       "2  [spy, based on novel, secret agent, sequel, mi...   \n",
       "3  [dc comics, crime fighter, terrorist, secret i...   \n",
       "4  [based on novel, mars, medallion, space travel...   \n",
       "\n",
       "                                                cast                 crew  \n",
       "0  [Sam Worthington, Zoe Saldana, Sigourney Weave...      [James Cameron]  \n",
       "1  [Johnny Depp, Orlando Bloom, Keira Knightley, ...     [Gore Verbinski]  \n",
       "2  [Daniel Craig, Christoph Waltz, Léa Seydoux, R...         [Sam Mendes]  \n",
       "3  [Christian Bale, Michael Caine, Gary Oldman, A...  [Christopher Nolan]  \n",
       "4  [Taylor Kitsch, Lynn Collins, Samantha Morton,...     [Andrew Stanton]  "
      ]
     },
     "execution_count": 106,
     "metadata": {},
     "output_type": "execute_result"
    }
   ],
   "source": [
    "movies.head()"
   ]
  },
  {
   "cell_type": "markdown",
   "metadata": {
    "id": "kJi94UwDl5pM"
   },
   "source": [
    "Creating Tags column and merging cast, crew, keywords, genres and overview"
   ]
  },
  {
   "cell_type": "code",
   "execution_count": 107,
   "metadata": {
    "id": "1xnFvZzPksj9"
   },
   "outputs": [],
   "source": [
    "movies['tags']= movies['genres'] + movies['keywords'] + movies['cast'] +movies['crew'] + movies['overview']"
   ]
  },
  {
   "cell_type": "code",
   "execution_count": 108,
   "metadata": {
    "colab": {
     "base_uri": "https://localhost:8080/",
     "height": 337
    },
    "id": "P_XEWrDbksgr",
    "outputId": "5c7318e2-96d7-4ae3-a74c-1350c6acdfc2"
   },
   "outputs": [
    {
     "data": {
      "text/html": [
       "<div>\n",
       "<style scoped>\n",
       "    .dataframe tbody tr th:only-of-type {\n",
       "        vertical-align: middle;\n",
       "    }\n",
       "\n",
       "    .dataframe tbody tr th {\n",
       "        vertical-align: top;\n",
       "    }\n",
       "\n",
       "    .dataframe thead th {\n",
       "        text-align: right;\n",
       "    }\n",
       "</style>\n",
       "<table border=\"1\" class=\"dataframe\">\n",
       "  <thead>\n",
       "    <tr style=\"text-align: right;\">\n",
       "      <th></th>\n",
       "      <th>movie_id</th>\n",
       "      <th>title</th>\n",
       "      <th>overview</th>\n",
       "      <th>genres</th>\n",
       "      <th>keywords</th>\n",
       "      <th>cast</th>\n",
       "      <th>crew</th>\n",
       "      <th>tags</th>\n",
       "    </tr>\n",
       "  </thead>\n",
       "  <tbody>\n",
       "    <tr>\n",
       "      <th>0</th>\n",
       "      <td>19995</td>\n",
       "      <td>Avatar</td>\n",
       "      <td>[In, the, 22nd, century,, a, paraplegic, Marin...</td>\n",
       "      <td>[Action, Adventure, Fantasy, Science Fiction]</td>\n",
       "      <td>[culture clash, future, space war, space colon...</td>\n",
       "      <td>[Sam Worthington, Zoe Saldana, Sigourney Weave...</td>\n",
       "      <td>[James Cameron]</td>\n",
       "      <td>[Action, Adventure, Fantasy, Science Fiction, ...</td>\n",
       "    </tr>\n",
       "    <tr>\n",
       "      <th>1</th>\n",
       "      <td>285</td>\n",
       "      <td>Pirates of the Caribbean: At World's End</td>\n",
       "      <td>[Captain, Barbossa,, long, believed, to, be, d...</td>\n",
       "      <td>[Adventure, Fantasy, Action]</td>\n",
       "      <td>[ocean, drug abuse, exotic island, east india ...</td>\n",
       "      <td>[Johnny Depp, Orlando Bloom, Keira Knightley, ...</td>\n",
       "      <td>[Gore Verbinski]</td>\n",
       "      <td>[Adventure, Fantasy, Action, ocean, drug abuse...</td>\n",
       "    </tr>\n",
       "    <tr>\n",
       "      <th>2</th>\n",
       "      <td>206647</td>\n",
       "      <td>Spectre</td>\n",
       "      <td>[A, cryptic, message, from, Bond’s, past, send...</td>\n",
       "      <td>[Action, Adventure, Crime]</td>\n",
       "      <td>[spy, based on novel, secret agent, sequel, mi...</td>\n",
       "      <td>[Daniel Craig, Christoph Waltz, Léa Seydoux, R...</td>\n",
       "      <td>[Sam Mendes]</td>\n",
       "      <td>[Action, Adventure, Crime, spy, based on novel...</td>\n",
       "    </tr>\n",
       "    <tr>\n",
       "      <th>3</th>\n",
       "      <td>49026</td>\n",
       "      <td>The Dark Knight Rises</td>\n",
       "      <td>[Following, the, death, of, District, Attorney...</td>\n",
       "      <td>[Action, Crime, Drama, Thriller]</td>\n",
       "      <td>[dc comics, crime fighter, terrorist, secret i...</td>\n",
       "      <td>[Christian Bale, Michael Caine, Gary Oldman, A...</td>\n",
       "      <td>[Christopher Nolan]</td>\n",
       "      <td>[Action, Crime, Drama, Thriller, dc comics, cr...</td>\n",
       "    </tr>\n",
       "    <tr>\n",
       "      <th>4</th>\n",
       "      <td>49529</td>\n",
       "      <td>John Carter</td>\n",
       "      <td>[John, Carter, is, a, war-weary,, former, mili...</td>\n",
       "      <td>[Action, Adventure, Science Fiction]</td>\n",
       "      <td>[based on novel, mars, medallion, space travel...</td>\n",
       "      <td>[Taylor Kitsch, Lynn Collins, Samantha Morton,...</td>\n",
       "      <td>[Andrew Stanton]</td>\n",
       "      <td>[Action, Adventure, Science Fiction, based on ...</td>\n",
       "    </tr>\n",
       "  </tbody>\n",
       "</table>\n",
       "</div>"
      ],
      "text/plain": [
       "   movie_id                                     title  \\\n",
       "0     19995                                    Avatar   \n",
       "1       285  Pirates of the Caribbean: At World's End   \n",
       "2    206647                                   Spectre   \n",
       "3     49026                     The Dark Knight Rises   \n",
       "4     49529                               John Carter   \n",
       "\n",
       "                                            overview  \\\n",
       "0  [In, the, 22nd, century,, a, paraplegic, Marin...   \n",
       "1  [Captain, Barbossa,, long, believed, to, be, d...   \n",
       "2  [A, cryptic, message, from, Bond’s, past, send...   \n",
       "3  [Following, the, death, of, District, Attorney...   \n",
       "4  [John, Carter, is, a, war-weary,, former, mili...   \n",
       "\n",
       "                                          genres  \\\n",
       "0  [Action, Adventure, Fantasy, Science Fiction]   \n",
       "1                   [Adventure, Fantasy, Action]   \n",
       "2                     [Action, Adventure, Crime]   \n",
       "3               [Action, Crime, Drama, Thriller]   \n",
       "4           [Action, Adventure, Science Fiction]   \n",
       "\n",
       "                                            keywords  \\\n",
       "0  [culture clash, future, space war, space colon...   \n",
       "1  [ocean, drug abuse, exotic island, east india ...   \n",
       "2  [spy, based on novel, secret agent, sequel, mi...   \n",
       "3  [dc comics, crime fighter, terrorist, secret i...   \n",
       "4  [based on novel, mars, medallion, space travel...   \n",
       "\n",
       "                                                cast                 crew  \\\n",
       "0  [Sam Worthington, Zoe Saldana, Sigourney Weave...      [James Cameron]   \n",
       "1  [Johnny Depp, Orlando Bloom, Keira Knightley, ...     [Gore Verbinski]   \n",
       "2  [Daniel Craig, Christoph Waltz, Léa Seydoux, R...         [Sam Mendes]   \n",
       "3  [Christian Bale, Michael Caine, Gary Oldman, A...  [Christopher Nolan]   \n",
       "4  [Taylor Kitsch, Lynn Collins, Samantha Morton,...     [Andrew Stanton]   \n",
       "\n",
       "                                                tags  \n",
       "0  [Action, Adventure, Fantasy, Science Fiction, ...  \n",
       "1  [Adventure, Fantasy, Action, ocean, drug abuse...  \n",
       "2  [Action, Adventure, Crime, spy, based on novel...  \n",
       "3  [Action, Crime, Drama, Thriller, dc comics, cr...  \n",
       "4  [Action, Adventure, Science Fiction, based on ...  "
      ]
     },
     "execution_count": 108,
     "metadata": {},
     "output_type": "execute_result"
    }
   ],
   "source": [
    "movies.head()"
   ]
  },
  {
   "cell_type": "markdown",
   "metadata": {
    "id": "4QOIxrSKmxlh"
   },
   "source": [
    "Creating a new Data Frame with Title, Tags and MovieId"
   ]
  },
  {
   "cell_type": "code",
   "execution_count": 109,
   "metadata": {
    "id": "metU7oITmxPC"
   },
   "outputs": [],
   "source": [
    "movies_df=movies[['movie_id','title','tags']]"
   ]
  },
  {
   "cell_type": "code",
   "execution_count": 110,
   "metadata": {
    "colab": {
     "base_uri": "https://localhost:8080/",
     "height": 206
    },
    "id": "IPbe2ltiksd5",
    "outputId": "abdeb745-4625-47f1-c0ee-60035edd26c7"
   },
   "outputs": [
    {
     "data": {
      "text/html": [
       "<div>\n",
       "<style scoped>\n",
       "    .dataframe tbody tr th:only-of-type {\n",
       "        vertical-align: middle;\n",
       "    }\n",
       "\n",
       "    .dataframe tbody tr th {\n",
       "        vertical-align: top;\n",
       "    }\n",
       "\n",
       "    .dataframe thead th {\n",
       "        text-align: right;\n",
       "    }\n",
       "</style>\n",
       "<table border=\"1\" class=\"dataframe\">\n",
       "  <thead>\n",
       "    <tr style=\"text-align: right;\">\n",
       "      <th></th>\n",
       "      <th>movie_id</th>\n",
       "      <th>title</th>\n",
       "      <th>tags</th>\n",
       "    </tr>\n",
       "  </thead>\n",
       "  <tbody>\n",
       "    <tr>\n",
       "      <th>0</th>\n",
       "      <td>19995</td>\n",
       "      <td>Avatar</td>\n",
       "      <td>[Action, Adventure, Fantasy, Science Fiction, ...</td>\n",
       "    </tr>\n",
       "    <tr>\n",
       "      <th>1</th>\n",
       "      <td>285</td>\n",
       "      <td>Pirates of the Caribbean: At World's End</td>\n",
       "      <td>[Adventure, Fantasy, Action, ocean, drug abuse...</td>\n",
       "    </tr>\n",
       "    <tr>\n",
       "      <th>2</th>\n",
       "      <td>206647</td>\n",
       "      <td>Spectre</td>\n",
       "      <td>[Action, Adventure, Crime, spy, based on novel...</td>\n",
       "    </tr>\n",
       "    <tr>\n",
       "      <th>3</th>\n",
       "      <td>49026</td>\n",
       "      <td>The Dark Knight Rises</td>\n",
       "      <td>[Action, Crime, Drama, Thriller, dc comics, cr...</td>\n",
       "    </tr>\n",
       "    <tr>\n",
       "      <th>4</th>\n",
       "      <td>49529</td>\n",
       "      <td>John Carter</td>\n",
       "      <td>[Action, Adventure, Science Fiction, based on ...</td>\n",
       "    </tr>\n",
       "  </tbody>\n",
       "</table>\n",
       "</div>"
      ],
      "text/plain": [
       "   movie_id                                     title  \\\n",
       "0     19995                                    Avatar   \n",
       "1       285  Pirates of the Caribbean: At World's End   \n",
       "2    206647                                   Spectre   \n",
       "3     49026                     The Dark Knight Rises   \n",
       "4     49529                               John Carter   \n",
       "\n",
       "                                                tags  \n",
       "0  [Action, Adventure, Fantasy, Science Fiction, ...  \n",
       "1  [Adventure, Fantasy, Action, ocean, drug abuse...  \n",
       "2  [Action, Adventure, Crime, spy, based on novel...  \n",
       "3  [Action, Crime, Drama, Thriller, dc comics, cr...  \n",
       "4  [Action, Adventure, Science Fiction, based on ...  "
      ]
     },
     "execution_count": 110,
     "metadata": {},
     "output_type": "execute_result"
    }
   ],
   "source": [
    "movies_df.head()"
   ]
  },
  {
   "cell_type": "markdown",
   "metadata": {
    "id": "r01Qrr3yoaFI"
   },
   "source": [
    "Converting the tags format from list to string"
   ]
  },
  {
   "cell_type": "code",
   "execution_count": 111,
   "metadata": {
    "id": "tsL33S80ogV6"
   },
   "outputs": [],
   "source": [
    "movies_df['tags']= movies_df['tags'].apply(lambda x:''.join(x))"
   ]
  },
  {
   "cell_type": "code",
   "execution_count": 112,
   "metadata": {
    "colab": {
     "base_uri": "https://localhost:8080/",
     "height": 206
    },
    "id": "yNIXGTyFWyrt",
    "outputId": "641d96a7-f806-4eac-edf3-b602613928ca"
   },
   "outputs": [
    {
     "data": {
      "text/html": [
       "<div>\n",
       "<style scoped>\n",
       "    .dataframe tbody tr th:only-of-type {\n",
       "        vertical-align: middle;\n",
       "    }\n",
       "\n",
       "    .dataframe tbody tr th {\n",
       "        vertical-align: top;\n",
       "    }\n",
       "\n",
       "    .dataframe thead th {\n",
       "        text-align: right;\n",
       "    }\n",
       "</style>\n",
       "<table border=\"1\" class=\"dataframe\">\n",
       "  <thead>\n",
       "    <tr style=\"text-align: right;\">\n",
       "      <th></th>\n",
       "      <th>movie_id</th>\n",
       "      <th>title</th>\n",
       "      <th>tags</th>\n",
       "    </tr>\n",
       "  </thead>\n",
       "  <tbody>\n",
       "    <tr>\n",
       "      <th>0</th>\n",
       "      <td>19995</td>\n",
       "      <td>Avatar</td>\n",
       "      <td>ActionAdventureFantasyScience Fictionculture c...</td>\n",
       "    </tr>\n",
       "    <tr>\n",
       "      <th>1</th>\n",
       "      <td>285</td>\n",
       "      <td>Pirates of the Caribbean: At World's End</td>\n",
       "      <td>AdventureFantasyActionoceandrug abuseexotic is...</td>\n",
       "    </tr>\n",
       "    <tr>\n",
       "      <th>2</th>\n",
       "      <td>206647</td>\n",
       "      <td>Spectre</td>\n",
       "      <td>ActionAdventureCrimespybased on novelsecret ag...</td>\n",
       "    </tr>\n",
       "    <tr>\n",
       "      <th>3</th>\n",
       "      <td>49026</td>\n",
       "      <td>The Dark Knight Rises</td>\n",
       "      <td>ActionCrimeDramaThrillerdc comicscrime fighter...</td>\n",
       "    </tr>\n",
       "    <tr>\n",
       "      <th>4</th>\n",
       "      <td>49529</td>\n",
       "      <td>John Carter</td>\n",
       "      <td>ActionAdventureScience Fictionbased on novelma...</td>\n",
       "    </tr>\n",
       "  </tbody>\n",
       "</table>\n",
       "</div>"
      ],
      "text/plain": [
       "   movie_id                                     title  \\\n",
       "0     19995                                    Avatar   \n",
       "1       285  Pirates of the Caribbean: At World's End   \n",
       "2    206647                                   Spectre   \n",
       "3     49026                     The Dark Knight Rises   \n",
       "4     49529                               John Carter   \n",
       "\n",
       "                                                tags  \n",
       "0  ActionAdventureFantasyScience Fictionculture c...  \n",
       "1  AdventureFantasyActionoceandrug abuseexotic is...  \n",
       "2  ActionAdventureCrimespybased on novelsecret ag...  \n",
       "3  ActionCrimeDramaThrillerdc comicscrime fighter...  \n",
       "4  ActionAdventureScience Fictionbased on novelma...  "
      ]
     },
     "execution_count": 112,
     "metadata": {},
     "output_type": "execute_result"
    }
   ],
   "source": [
    "movies_df.head()"
   ]
  },
  {
   "cell_type": "markdown",
   "metadata": {
    "id": "pAnP1fjWXJqn"
   },
   "source": [
    "Converting the tags to smallcase letters"
   ]
  },
  {
   "cell_type": "code",
   "execution_count": 113,
   "metadata": {
    "id": "wIqVpbCxXJTE"
   },
   "outputs": [],
   "source": [
    "movies_df['tags']= movies_df['tags'].apply(lambda x:x.lower())"
   ]
  },
  {
   "cell_type": "code",
   "execution_count": 114,
   "metadata": {
    "colab": {
     "base_uri": "https://localhost:8080/"
    },
    "id": "dZrCWLoXXJKD",
    "outputId": "3cb16750-b540-4469-dab7-c20fffb56138"
   },
   "outputs": [
    {
     "data": {
      "text/plain": [
       "0       actionadventurefantasyscience fictionculture c...\n",
       "1       adventurefantasyactionoceandrug abuseexotic is...\n",
       "2       actionadventurecrimespybased on novelsecret ag...\n",
       "3       actioncrimedramathrillerdc comicscrime fighter...\n",
       "4       actionadventurescience fictionbased on novelma...\n",
       "                              ...                        \n",
       "4840    actioncrimethrillerunited states–mexico barrie...\n",
       "4841    comedyromanceedward burnskerry bishémarsha die...\n",
       "4842    comedydramaromancetv moviedatelove at first si...\n",
       "4843    daniel henneyeliza coupebill paxtonalan ruckzh...\n",
       "4844    documentaryobsessioncamcordercrushdream girldr...\n",
       "Name: tags, Length: 4806, dtype: object"
      ]
     },
     "execution_count": 114,
     "metadata": {},
     "output_type": "execute_result"
    }
   ],
   "source": [
    "movies_df['tags']"
   ]
  },
  {
   "cell_type": "markdown",
   "metadata": {
    "id": "FbRtdSCmp9R6"
   },
   "source": [
    "###Creating The Recomendation Model\n"
   ]
  },
  {
   "cell_type": "markdown",
   "metadata": {
    "id": "Hsg2djXXuUQ1"
   },
   "source": [
    "Stemming the vectors of tags to remove similar words"
   ]
  },
  {
   "cell_type": "code",
   "execution_count": 147,
   "metadata": {
    "id": "kkZ8-aqutCKd"
   },
   "outputs": [],
   "source": [
    "ps=PorterStemmer()"
   ]
  },
  {
   "cell_type": "code",
   "execution_count": 148,
   "metadata": {
    "id": "GSFZLALPvDKx"
   },
   "outputs": [],
   "source": [
    "def stem(text):\n",
    "  y=[]\n",
    "\n",
    "  for i in text.split():\n",
    "    y.append(ps.stem(i))\n",
    "  return ''.join(y)"
   ]
  },
  {
   "cell_type": "code",
   "execution_count": 149,
   "metadata": {
    "id": "G8SVyhWOvDGr"
   },
   "outputs": [],
   "source": [
    "movies_df['tags'] = movies_df['tags'].apply(stem)"
   ]
  },
  {
   "cell_type": "markdown",
   "metadata": {
    "id": "smoctNBJtSZ6"
   },
   "source": [
    "Removing the stop words and creating vectors of the tags"
   ]
  },
  {
   "cell_type": "code",
   "execution_count": 150,
   "metadata": {
    "id": "-9_YO8NHvDDy"
   },
   "outputs": [],
   "source": [
    "from sklearn.feature_extraction.text import CountVectorizer\n",
    "cv=CountVectorizer(max_features=5000,stop_words='english')"
   ]
  },
  {
   "cell_type": "code",
   "execution_count": 151,
   "metadata": {
    "id": "-f02vryqsfrl"
   },
   "outputs": [],
   "source": [
    "vectors_movies = cv.fit_transform(movies_df['tags']).toarray()"
   ]
  },
  {
   "cell_type": "code",
   "execution_count": 152,
   "metadata": {
    "id": "6aCxsJ6wvC9w"
   },
   "outputs": [],
   "source": [
    "similarity=cosine_similarity(vectors_movies)"
   ]
  },
  {
   "cell_type": "code",
   "execution_count": 153,
   "metadata": {
    "id": "tMK4UcapvC60",
    "scrolled": true
   },
   "outputs": [
    {
     "data": {
      "text/plain": [
       "['00',\n",
       " '000',\n",
       " '10',\n",
       " '11',\n",
       " '12',\n",
       " '14',\n",
       " '14november1990thatmadnesscametoaramoana',\n",
       " '16',\n",
       " '18',\n",
       " '1970s',\n",
       " '1974',\n",
       " '1990',\n",
       " '200',\n",
       " '27',\n",
       " '30',\n",
       " '300',\n",
       " '50',\n",
       " '60',\n",
       " '60s',\n",
       " 'abeautiful',\n",
       " 'aboveall',\n",
       " 'accidentally',\n",
       " 'action',\n",
       " 'actually',\n",
       " 'ada',\n",
       " 'adam',\n",
       " 'adams',\n",
       " 'adaptedfromthenovel',\n",
       " 'aditya',\n",
       " 'adown',\n",
       " 'adrug',\n",
       " 'adventure',\n",
       " 'adventurefantasyactionelvesorcsmiddle',\n",
       " 'afast',\n",
       " 'afree',\n",
       " 'afterall',\n",
       " 'afterhisfather',\n",
       " 'afterservinghisfiveyearjailsentence',\n",
       " 'againstallodds',\n",
       " 'aggie',\n",
       " 'agroupofco',\n",
       " 'ahigh',\n",
       " 'ahusband',\n",
       " 'alaska',\n",
       " 'alecbaldwin',\n",
       " 'alex',\n",
       " 'alice',\n",
       " 'alike',\n",
       " 'alongtheway',\n",
       " 'alovetriangle',\n",
       " 'amador',\n",
       " 'amanda',\n",
       " 'america',\n",
       " 'american',\n",
       " 'americangirl',\n",
       " 'americanwar',\n",
       " 'americanzion',\n",
       " 'amiddle',\n",
       " 'amidthechaos',\n",
       " 'amp',\n",
       " 'amy',\n",
       " 'an11',\n",
       " 'andagain',\n",
       " 'andall',\n",
       " 'andeachother',\n",
       " 'andhe',\n",
       " 'andhedoesn',\n",
       " 'andhisfamily',\n",
       " 'andhisfiancée',\n",
       " 'andisn',\n",
       " 'andit',\n",
       " 'andjack',\n",
       " 'andjin',\n",
       " 'andnowhe',\n",
       " 'andnowshe',\n",
       " 'andonlyonemancanstophim',\n",
       " 'andself',\n",
       " 'andshe',\n",
       " 'andthat',\n",
       " 'andthecouple',\n",
       " 'andthemafia',\n",
       " 'andthey',\n",
       " 'andwhy',\n",
       " 'andy',\n",
       " 'anex',\n",
       " 'angela',\n",
       " 'anger',\n",
       " 'annafaris',\n",
       " 'anne',\n",
       " 'anthonyhopkins',\n",
       " 'antonio',\n",
       " 'antonyelchin',\n",
       " 'apocalypticfuture',\n",
       " 'apocalypticworld',\n",
       " 'areal',\n",
       " 'armedlocalpolicemenriskedtheirlivestryingtofindhimandsavethesurvivors',\n",
       " 'artist',\n",
       " 'asaresult',\n",
       " 'aself',\n",
       " 'asexy',\n",
       " 'ashestalkedhisvictimstheterrifiedandconfusedresidentsweretrappedfor24hourswhileahandfulofunder',\n",
       " 'asmall',\n",
       " 'asmallnewzealandseasidetown',\n",
       " 'asmuggler',\n",
       " 'aspace',\n",
       " 'asshecomestobecalled',\n",
       " 'asshedesperatelytriestoholdeveryonetogether',\n",
       " 'asthenightprogresses',\n",
       " 'atfirst',\n",
       " 'athome',\n",
       " 'atthesametime',\n",
       " 'atwo',\n",
       " 'automaticrifle',\n",
       " 'awantedman',\n",
       " 'awell',\n",
       " 'awild',\n",
       " 'ayoungman',\n",
       " 'baby',\n",
       " 'barry',\n",
       " 'bart',\n",
       " 'basedonactualevents',\n",
       " 'basedonatruestory',\n",
       " 'basedontrueevents',\n",
       " 'basketball',\n",
       " 'becausehehasn',\n",
       " 'beforelong',\n",
       " 'beforeyoucansay',\n",
       " 'benkingsley',\n",
       " 'benstiller',\n",
       " 'bestfriends',\n",
       " 'betrayal',\n",
       " 'bettemidler',\n",
       " 'big',\n",
       " 'billy',\n",
       " 'bongbongjoon',\n",
       " 'boring',\n",
       " 'bornagain',\n",
       " 'boss',\n",
       " 'boyfriend',\n",
       " 'boyfriendex',\n",
       " 'breakingupwards',\n",
       " 'breathingdragon',\n",
       " 'brien',\n",
       " 'brilliant',\n",
       " 'brother',\n",
       " 'buddylove',\n",
       " 'butbeforelong',\n",
       " 'buthe',\n",
       " 'buthedoesn',\n",
       " 'butit',\n",
       " 'butitisn',\n",
       " 'butler',\n",
       " 'butnow',\n",
       " 'butnowhe',\n",
       " 'butreceivingacallofhelpfromhyun',\n",
       " 'butshe',\n",
       " 'butsoon',\n",
       " 'butthat',\n",
       " 'butthere',\n",
       " 'butthey',\n",
       " 'butthingsdon',\n",
       " 'butwhenhe',\n",
       " 'bychance',\n",
       " 'cal',\n",
       " 'california',\n",
       " 'called',\n",
       " 'calvin',\n",
       " 'campbell',\n",
       " 'capt',\n",
       " 'car',\n",
       " 'carl',\n",
       " 'carmen',\n",
       " 'carol',\n",
       " 'carter',\n",
       " 'cebe',\n",
       " 'charlie',\n",
       " 'chazzpalminteri',\n",
       " 'cher',\n",
       " 'children',\n",
       " 'christian',\n",
       " 'circuit',\n",
       " 'clay',\n",
       " 'clonewars',\n",
       " 'close',\n",
       " 'cmdr',\n",
       " 'cohen',\n",
       " 'collection',\n",
       " 'com',\n",
       " 'comedy',\n",
       " 'comedydocumentarystand',\n",
       " 'cool',\n",
       " 'courage',\n",
       " 'crane',\n",
       " 'crossed',\n",
       " 'cruise',\n",
       " 'danny',\n",
       " 'dannydevito',\n",
       " 'dannydyer',\n",
       " 'dannyglover',\n",
       " 'darcy',\n",
       " 'daughter',\n",
       " 'david',\n",
       " 'davidhewlett',\n",
       " 'daviesstevenspielbergwhendr',\n",
       " 'day',\n",
       " 'dc',\n",
       " 'death',\n",
       " 'demons',\n",
       " 'derek',\n",
       " 'desperate',\n",
       " 'destruction',\n",
       " 'determination',\n",
       " 'diane',\n",
       " 'dies',\n",
       " 'dil',\n",
       " 'dillon',\n",
       " 'disappears',\n",
       " 'discovery',\n",
       " 'doc',\n",
       " 'doorneighbor',\n",
       " 'doubt',\n",
       " 'dr',\n",
       " 'drag',\n",
       " 'drama',\n",
       " 'dramaromancelovofone',\n",
       " 'drinkingtruckdriverwholosescontrolofhistruckundertheinfluenceandslamsitintoabusloadofscreamingchildren',\n",
       " 'driver',\n",
       " 'drug',\n",
       " 'drugs',\n",
       " 'du',\n",
       " 'duandhisfamilyarethrustintoabattlewiththemonstertorescuetheirbelovedhyun',\n",
       " 'duchovny',\n",
       " 'duisadim',\n",
       " 'duringthenight',\n",
       " 'eachother',\n",
       " 'earth',\n",
       " 'eddie',\n",
       " 'edmund',\n",
       " 'eeyore',\n",
       " 'ella',\n",
       " 'elmariachi',\n",
       " 'emily',\n",
       " 'emmathompson',\n",
       " 'enemies',\n",
       " 'england',\n",
       " 'er',\n",
       " 'erica',\n",
       " 'esteem',\n",
       " 'ethanhawke',\n",
       " 'eve',\n",
       " 'evenifit',\n",
       " 'eventually',\n",
       " 'evenworse',\n",
       " 'evil',\n",
       " 'ex',\n",
       " 'expectations',\n",
       " 'fallsill',\n",
       " 'family',\n",
       " 'familybusiness',\n",
       " 'familypainfullyprovestobedoomed',\n",
       " 'female',\n",
       " 'ferrell',\n",
       " 'fi',\n",
       " 'finalcut',\n",
       " 'finally',\n",
       " 'fiveyearslater',\n",
       " 'fixer',\n",
       " 'food',\n",
       " 'foot',\n",
       " 'forever',\n",
       " 'forgiveness',\n",
       " 'forhelp',\n",
       " 'formerblack',\n",
       " 'formsabondwithherhostandsetsouttoaidotherfreehumans',\n",
       " 'forsixmonths',\n",
       " 'fortunately',\n",
       " 'foryears',\n",
       " 'frank',\n",
       " 'frankenstein',\n",
       " 'free',\n",
       " 'friend',\n",
       " 'friends',\n",
       " 'friendship',\n",
       " 'fun',\n",
       " 'funny',\n",
       " 'furious',\n",
       " 'future',\n",
       " 'gang',\n",
       " 'gangster',\n",
       " 'genehackman',\n",
       " 'george',\n",
       " 'georgia',\n",
       " 'girl',\n",
       " 'girlfriend',\n",
       " 'god',\n",
       " 'gonzo',\n",
       " 'good',\n",
       " 'gothamcity',\n",
       " 'government',\n",
       " 'grace',\n",
       " 'gradually',\n",
       " 'grant',\n",
       " 'green',\n",
       " 'gregkinnear',\n",
       " 'griffin',\n",
       " 'groberg',\n",
       " 'grownintoarebelliouspunkinabackwatertown',\n",
       " 'gun',\n",
       " 'guns',\n",
       " 'habits',\n",
       " 'half',\n",
       " 'hall',\n",
       " 'hand',\n",
       " 'hannah',\n",
       " 'hard',\n",
       " 'harrisonford',\n",
       " 'harry',\n",
       " 'hasotherplans',\n",
       " 'havingbarelybeenlookedafterbyherjunkiemon',\n",
       " 'hawkins',\n",
       " 'head',\n",
       " 'hearted',\n",
       " 'hecan',\n",
       " 'hedoesn',\n",
       " 'hee',\n",
       " 'hefollows',\n",
       " 'helearnshe',\n",
       " 'helenabonhamcarter',\n",
       " 'helenhunt',\n",
       " 'henry',\n",
       " 'hercules',\n",
       " 'herex',\n",
       " 'herfather',\n",
       " 'herhusband',\n",
       " 'hethinksit',\n",
       " 'high',\n",
       " 'hire',\n",
       " 'hisbestfriend',\n",
       " 'hisfather',\n",
       " 'hismother',\n",
       " 'hisparents',\n",
       " 'history',\n",
       " 'hiswife',\n",
       " 'holds',\n",
       " 'home',\n",
       " 'hoparkhae',\n",
       " 'hopper',\n",
       " 'hopperfindshisdaughter',\n",
       " 'horrorfilm',\n",
       " 'human',\n",
       " 'humans',\n",
       " 'humor',\n",
       " 'hungryforrevenge',\n",
       " 'husbandex',\n",
       " 'hyun',\n",
       " 'ignoringherfather',\n",
       " 'il',\n",
       " 'ilbadoonakoah',\n",
       " 'illinois',\n",
       " 'inaninstant',\n",
       " 'inberlin',\n",
       " 'ineachcase',\n",
       " 'infact',\n",
       " 'inla',\n",
       " 'inreturn',\n",
       " 'inshort',\n",
       " 'inspiredbytrueevents',\n",
       " 'instead',\n",
       " 'insteadofcarryingoutherrace',\n",
       " 'inthe1950s',\n",
       " 'inthefirst',\n",
       " 'intheformofalonegunmanwithahigh',\n",
       " 'inthemeantime',\n",
       " 'intheprocess',\n",
       " 'inthesecond',\n",
       " 'inturn',\n",
       " 'irina',\n",
       " 'irish',\n",
       " 'isn',\n",
       " 'itisn',\n",
       " 'jack',\n",
       " 'jackson',\n",
       " 'james',\n",
       " 'jamie',\n",
       " 'jane',\n",
       " 'japanesewar',\n",
       " 'jason',\n",
       " 'jean',\n",
       " 'jeanreno',\n",
       " 'jeans',\n",
       " 'jeffbridges',\n",
       " 'jessicaalba',\n",
       " 'jill',\n",
       " 'jim',\n",
       " 'jimmy',\n",
       " 'jin',\n",
       " 'jo',\n",
       " 'joey',\n",
       " 'john',\n",
       " 'johnmalkovich',\n",
       " 'johnny',\n",
       " 'johnnydepp',\n",
       " 'johnsonchloëgracemoretzchristophmintz',\n",
       " 'jones',\n",
       " 'joo',\n",
       " 'jose',\n",
       " 'joseph',\n",
       " 'joshbrolin',\n",
       " 'jr',\n",
       " 'kate',\n",
       " 'katehudson',\n",
       " 'katieholmes',\n",
       " 'katyperry',\n",
       " 'kelly',\n",
       " 'kevin',\n",
       " 'kevindaniels',\n",
       " 'knownas',\n",
       " 'krab',\n",
       " 'kristenstewart',\n",
       " 'later',\n",
       " 'laura',\n",
       " 'law',\n",
       " 'lawbrother',\n",
       " 'lawrence',\n",
       " 'laws',\n",
       " 'lerman',\n",
       " 'lewiscamillabellecatherinkeenerryanmcdonaldpauldanorebeccamillerjackslavinisanenvironmentalistwithaheartconditionwholiveswithhisdaughter',\n",
       " 'lewismadeleinstowerusselmeanserschweigjodhimaymichaelmannastheenglishandfrenchsoldiersbattleforcontroloftheamericancoloniesinthe18thcentury',\n",
       " 'lewismalikyobajohncandyjonturteltaubwhenajamaicansprinterisdisqualifiedfromtheolympicgames',\n",
       " 'lewismarioncotillardpenélopcruzsophialorenrobmarshallarrogant',\n",
       " 'lewismichelpfeifferwinonaryderalexismithgeraldinchaplinmartinscorsesetaleof19thcenturynewyorkhighsocietyinwhichayounglawyerfallsinlovewithawomanseparatedfromherhusband',\n",
       " 'lewispauldanodillonfreasierciaránhindskevinj',\n",
       " 'lewisrogdonaldsonthefamiliarstoryoflieutenantbligh',\n",
       " 'lewisroshansethsaejaffreyderrickbranchestephenfrearsomar',\n",
       " 'lewissfielddavidstrathairnjosephgordon',\n",
       " 'lewisthepicaresqueandtouchingstoryofthepoliticallyincorrect',\n",
       " 'lgauthiersylvainchometwhenhergrandsoniskidnappedduringthetourdefrance',\n",
       " 'liangliuchia',\n",
       " 'liangreturninghomewithhisfatherafterashoppingexpedition',\n",
       " 'libbyandtheirdaughterstoaquainttowninnewengland',\n",
       " 'licatajasonalexanderit',\n",
       " 'licensechemotherapytherapistpatientrelationshipjosephgordon',\n",
       " 'licensedundercc',\n",
       " 'licensefinggunbackhandslapcarjumpmanpunchawomanmagtricknicolacageambheardwilliamfichtnerbilliburkedavidmorsepatricklussiermiltonisahardenedfelonwhohasbrokenoutofhell',\n",
       " 'liesandmurder',\n",
       " 'liesatendertaleofadolescentanxiety',\n",
       " 'liesinplainsight',\n",
       " 'liesstarttoroll',\n",
       " 'lieswithinthedepthsofthehumanheart',\n",
       " 'lieutenantalexhopperisaweaponsofficerassignedtotheussjohnpauljones',\n",
       " 'lieutenantmikeharriganandhispoliceforcesetouttocapturethecreature',\n",
       " 'life',\n",
       " 'lifeadventures',\n",
       " 'lifeadventureschronicledbycameroncrowe',\n",
       " 'lifeadventurewhenanegativegoesmissing',\n",
       " 'lifeandthethoughtofhimhavinganaffairwithanotherwomanbeginshervolatiledescentintothedarksideofpsychosexualinsanity',\n",
       " 'lifeauthorethanhawkejulidelpyvernondobtchefflouislemointorrèsmarianplasteigrichardlinklaternineyearsagotwostrangersmetbychanceandspentanightinviennathatendedbeforesunrise',\n",
       " 'lifebecomessomuchmoreinterestingwhenthefather',\n",
       " 'lifebisexualitymenagatroiscombookcomic',\n",
       " 'lifebridebrokerindependfilmweddingedwardburnsmichaelmcglonecamerondiazjennifanistonjohnmahoneyedwardburnsmickey',\n",
       " 'lifecambodiaethiopiachechnyaforeignaidangelinajolieclowenteripololinuroachenoahemmerichmartincampbellbeyondbordersisanepictaleoftheturbulentromancebetweentwostar',\n",
       " 'lifechauffeurblackmarketmissilepostwarperiodwarcorrespondentalliedtruthmurderhumanitygeorgclooneycblanchetttobeymaguiretonicurranlelandorserstevensoderberghanamericanjournalistplayedbygeorgeclooneyarrivesinberlinjustaftertheendofworldwartwo',\n",
       " 'lifechucky',\n",
       " 'lifecreatureswhichwererulingtheseasbeforedinosaursconqueredtheearth',\n",
       " 'lifecriminals',\n",
       " 'lifecrisis',\n",
       " 'lifecrisisattemptstobecomeasuccessfulhip',\n",
       " 'lifecutthecordforbiddenlovekisscrushteenagcrushrelationshipunhappinesskirstendunstjayhernandezbrucdavisonhermanosoriomiguelcastrojohnstockwellatpacificpalisadeshigh',\n",
       " 'lifedementiaclasssecretlovetearscandlemailboxrachelmcadamsryangoslinggenarowlandsjamgarnersamshepardnickcassavetesanepiclovestorycenteredaroundanoldermanwhoreadsaloudtoawomanwithalzheimer',\n",
       " 'lifedisabledwomandirectorsalmahayekalfrmolinamíamaestropatriciareyspíndoladiegolunajulitaymor',\n",
       " 'lifedoublemurder',\n",
       " 'lifedramawhileminutedetailsofthefishingboats',\n",
       " 'lifedrifter',\n",
       " 'lifedystopiageneticsfreedomescapecloningplagueewanmcgregorscarlettjohanssondjimonhounsouseanbeanstevbuscemimichaelbayin2019',\n",
       " 'lifefascinationmusloversongloversdublintomakemusicmusicmusinstrumenttendernesspianistlovsicknessmusbandglenhansardmarkétairglováhughwalshgerardhendrickalaistairfoleyjohncarneyavacuumrepairmanmoonlightsasastreetmusicianandhopesforhisbigbreak',\n",
       " 'lifefiguresfromthecoldwareramixwithafictionalstorybasedonagroupofciaoperativesandtheircounterpartsinthekgb',\n",
       " 'lifeforbiddenloveloversaffectionadvertisexpertalcoholisminvulnerabilitysuperheropokiesduringcreditsstingerwilsmithcharltheronjasonbatemanjaheadeddimarsanpetberghancockisadown',\n",
       " 'lifeforgivenessspiderwretchdeathofafriendegomaniasandnarcismhostilitymarvelcomicsequelsuperherorevengetobeymaguirekirstendunstjamfrancothomahadenchurchtophgracesamraimitheseeminglyinvinciblespider',\n",
       " 'lifeharmonicaliechoirchurchchoirrockstarcelloforbiddenlovemusloverorgankissaffectionmusicconcerttendernessmotherlilovechildren',\n",
       " 'lifeheatsupforourheroeswhentheymeetsomenewandnone',\n",
       " 'lifeincident',\n",
       " 'lifeintelligencemathematicianmarketeconomyeconomtheoryprincetonuniversitynobelprizemathemattheoremm',\n",
       " 'lifeisbittersweetalongthel',\n",
       " 'lifeisbusy',\n",
       " 'lifeisnoexcusefornotliving',\n",
       " 'lifeisonebigcompetition',\n",
       " 'lifejudlawnicolkidmanrenézellwegereileenatkinsbrendangleesonanthoniminghellainthisclassicstoryofloveanddevotionsetagainstthebackdropoftheamericancivilwar',\n",
       " 'lifekissman',\n",
       " 'lifeladykillerone',\n",
       " 'lifeleavelook',\n",
       " 'lifeleechstoritellerapoplectstrokefairmermaidcancerrelationshipyouthgentlgiantewanmcgregoralbertfinneybillicrudupjessicalangehelenabonhamcartertimburtonthroughouthislifeedwardbloomhasalwaysbeenamanofbigappetites',\n",
       " 'lifelegendaboutthemysterious',\n",
       " 'lifelonwolfsnobwitnessbridebridegroombridesmaidfuneralclumsifellowfriendshipweddinggaycouplehughgrantandimacdowelljamfleetsimoncallowjohnhannahmiknewellfourweddingsandafuneralisabritishcomedyaboutabritishmannamedcharlesandanamericanwomannamedcarriewhogothroughnumerousweddingsbeforetheydetermineiftheyarerightforoneanother',\n",
       " 'lifemagazineranabannerheadlinethatbeggedthequestion',\n",
       " 'lifemagicfairitalevillainkingdomenchantmentbadpowersonheirtothethronemotherlilovewizardryrevengeroyaltyfamilybasonvideogamemedievaljasonstathamjohnrhys',\n",
       " 'lifemanhattaniteshavebeendumpedforanewer',\n",
       " 'lifemaritimedisasterwouldinspirehermanmelville',\n",
       " 'lifemephistowishsalofsoulpactwiththedevilteuflischelizabethhurleybrendanfraserfro',\n",
       " 'lifemexicancatholicpriestwhohada23',\n",
       " 'lifemothrolebridgehousewifelovletterpeasantmarriagcrisisphotographyunsociabilitysecretlovenaturdocumentarymerylstreepclinteastwoodannicorleyvictorslezakjimhaynieclinteastwoodphotographerrobertkincaidwandersintothelifeofhousewifefrancescajohnsonforfourdaysinthe1960s',\n",
       " 'lifenarrationloverskissdaughteraffectionrelationmakamatchsexeducationrelationshipdivorcefathdaughterrelationshippastrelationshipryanreynoldsabigailbreslinelizabethbanksislafisherrachelweiszadambrookswhenwilldecidestotellhisdaughterthestoryofhowhemethermother',\n",
       " 'lifeneighborjoaquinphoenixgwynethpaltrowisabellarossellinivinessashawmonimoshonovjamgrayadepressedmanmovesbackinwithhisparentsfollowingarecentheartbreak',\n",
       " 'lifenewlywedkhudsonowenwilsonmattdillonmichaeldouglassethrogenanthonirussojorussoafterstandinginasbestmanforhislongtimefriendcarlpetersen',\n",
       " 'lifenewyorkcouplewho',\n",
       " 'lifenightmarewheneduardoisambushedandkidnappedbystrangers',\n",
       " 'lifenorthernirelandhomosexualitygayinterestteenagcrushsoldierpolitunreststephenreajaydavidsonmirandarichardsonforestwhitakeradriandunbarneiljordanirishrepublicanarmymemberfergus',\n",
       " 'lifeone',\n",
       " 'lifeoscarawardtheatrplaytheatrgroupwriter',\n",
       " 'lifepastor',\n",
       " 'lifepilotclasssocietypakistanindiakashmirconflictshahrukhkhanpreitizintaranimukerjiamitabhbachchanhemamaliniyashchoprathestoryofthelovebetweenveerpratapsingh',\n",
       " 'lifepizzaboymarvelcomicsequelsuperherodoctorscientisttentacledeathsupvillaintobeymaguirekirstendunstjamfrancoalfrmolinarosemariharrissamraimipeterparkerisgoingthroughamajoridentitycrisis',\n",
       " 'lifeplaceinjapanwherepeoplegotoendtheirlives',\n",
       " 'lifeplantationmarriagemailorderbridefrenchnoirjean',\n",
       " 'lifeplatonlovepornographvideobestfriendsexcomedybestfriendinloveaftercreditsstingerduringcreditsstingersethrogenelizabethbanksjennifschwalbachsmithjasonmewesgerribednobkevinsmithlifelongplatonicfriendszackandmirilooktosolvetheirrespectivecash',\n",
       " 'lifepublicityboxergravetombstonetvstationboxmatchcomebacktrainingrestaurownerworldchampionchallengervirtufightdefeatvictorycancerover',\n",
       " 'lifepublicityboxerindependenceboxmatchtrainingloverssurpriseworldchampionamateurvictorysylveststallonetaliashireburtyoungcarlweathersburgessmeredithjohng',\n",
       " 'liferelocationman',\n",
       " 'liferestartsingapurunsociabilitysecretlovemurderauthorhongkongbreak',\n",
       " 'liferetireeagingalzheimerpflegenloveauthorshort',\n",
       " 'liferevolvesaroundthelegendarysaturdayhockeygameatthelocalpond',\n",
       " 'lifesattempttoburgleapawnbroker',\n",
       " 'lifeseemstohavepassedhimby',\n",
       " 'lifespyingartsgovernmentinterrogationsurveillanceministforeducationheartbreakeastgermanycommunismmfsmartinagedeckulrichmühesebastiankochulrichtukurthomathiemeflorianhenckelvondonnersmarckatragiclovestorysetineastberlinwiththebackdropofanundercoverstasicontrolledculture',\n",
       " 'lifestarswhowereoncehisidolsandwhathasbecomeofthemsincetheturnofthenewdecade',\n",
       " 'lifestoriesandhowtheshowinfluencedthem',\n",
       " 'lifestoriesfromkenya',\n",
       " 'lifestoryoflegendarytrackstarsteveprefontaine',\n",
       " 'lifesurgeontreedianddeathtransienceimmortalitymayacivilizationmonkeyconquesthughjackmanrachelweiszellenburstynmarkmargolisstephenmchattiedarrenaronofskyspanningoveronethousandyears',\n",
       " 'lifetaleofronwoodroof',\n",
       " 'lifetherapistpsychologyweddingrelationshipdivorcebrucwillismichelpfeifferrobreinercolleenrennisonjaksandvigrobreinerbenandkatiejordanareamarriedcouplewhogothroughhardtimesinfifteenyearsofmarriage',\n",
       " 'lifetimtravelkisspastsecretlovefishoutofwatermegryanhughjackmanlievschreiberbreckinmeyernatashalyonnejammangoldwhenherscientistex',\n",
       " 'lifetraitorshipwreckstrongwomanshipalliancecalypsoafterlifefighterpirateswashbuckleraftercreditsstingerjohnnidepporlandobloomkeiraknightleystellanskarsgårdchowyun',\n",
       " 'lifeunexpecthappinessdianddeathsuccesskissloverelationshipunhappinesswomandirectorfearofdyingrichardgerewinonaryderanthonilapagliaelainstritchverafarmigajoanchenautumninnewyorkfollowsthesexualexploitsofwillkeane',\n",
       " 'lifevampirebitedescendanthostilityshootoutwerewolfbluntfangvampkatbeckinsalescottspeedmanmichaelsheenshanbrollybilnighylenwisemanvampiresandwerewolveshavewagedanocturnalwaragainsteachotherforcenturies',\n",
       " 'lifeveterinarianwomandirectordavidduchovnyminnidrivercarrolo',\n",
       " 'lifewedplanermanofone',\n",
       " 'lifezombieswhilefilmingahorrormovieoftheirown',\n",
       " 'liftingthemetaphoricalsmokescreenthathefeelshascloudedthepublicview',\n",
       " 'liftsachunkofdrugmoneyfromanotherpakistaniand',\n",
       " 'light',\n",
       " 'lightinthedarkroomisthestoryoftwobestfriendswhosefaithistestedwhentheirfriendsdisappearduringareligiouspilgrimage',\n",
       " 'lightningisstolen',\n",
       " 'likablebusinessman',\n",
       " 'like3ddinosaurcharacterssetinphoto',\n",
       " 'likealloftheinhabitantsofthiscarefully',\n",
       " 'likeallofus',\n",
       " 'likeanimals',\n",
       " 'likeanychild',\n",
       " 'likebureaucraticstate',\n",
       " 'likeconditionsina',\n",
       " 'likecreaturescalledthenaughtiesthathehopeswilllethimharnesstheall',\n",
       " 'likedetectivenickcurranbeforehim',\n",
       " 'likedisease',\n",
       " 'likedschoolteacherandothertownspeople',\n",
       " 'likefelicia',\n",
       " 'likeferdinandtheduckwhothinksheisaroosterandflythedoghecallsmom',\n",
       " 'likehowtodisposeofthebodyandstillmaketheir3p',\n",
       " 'likejoeiswaitingtomopup',\n",
       " 'likemanymen',\n",
       " 'likemanyotherkids',\n",
       " 'likemillionsofothershewas',\n",
       " 'likemonsterterrorizesanabandonedsecretmilitarybaseandthepeoplewholiveontheislanditislocatedon',\n",
       " 'likemostamericanranchers',\n",
       " 'likemostteenagers',\n",
       " 'likenutritiousmealsandacleanhouse',\n",
       " 'likepeople',\n",
       " 'likequalities',\n",
       " 'likerestaurant',\n",
       " 'likerisewasshepherdedbyhalf',\n",
       " 'likestateforfifteenyears',\n",
       " 'likestocalltheshotsandhuntcaribou',\n",
       " 'likestofrolicwithfriendsandplayvideogameswithsquirrels',\n",
       " 'likestudentandthestressofeducatingteenagers',\n",
       " 'likesuperheroleftunchecked',\n",
       " 'liketheoneabouteatingpoprocksandsodaatthesametimewillmakeyourstomachexplodeandtheoneaboutapsychowithanaxesteppingintothebackseatofyourcaratthegasstationwhennotlooking',\n",
       " 'liketherestofthetown',\n",
       " 'likethoseseniorsbeforeher',\n",
       " 'likewise',\n",
       " 'lil',\n",
       " 'lila',\n",
       " 'lilismith',\n",
       " 'lilly',\n",
       " 'lilyahangsoutwithherfriends',\n",
       " 'lilyfleeswithrosaleen',\n",
       " 'lilyjames',\n",
       " 'lilyventuresintothemostisolatedareasofthemountainstocollectthesongsandfindsherselfincreasinglyenchanted',\n",
       " 'lincolnhopestobechosentogototheisland',\n",
       " 'lincolnpursuesacourseofactiondesignedtoendthewar',\n",
       " 'lincolnsix',\n",
       " 'linda',\n",
       " 'lindabarrettandmikedamone',\n",
       " 'lindaferrell',\n",
       " 'lindamanz',\n",
       " 'lindaneverstoppedbeinghismuse',\n",
       " 'lindawereneverlessthanglamorousandwildlyunconventional',\n",
       " 'lineandsinkerforamermaid',\n",
       " 'linegamecalled',\n",
       " 'lino',\n",
       " 'lisa',\n",
       " 'little',\n",
       " 'littledoessherealizethepathherlifewilltake',\n",
       " 'littledotheyknowthatintheirday',\n",
       " 'littledotheyknowthattheyareabouttostepintoahuntinggroundwherealiensaregrownassportforthepredatorrace',\n",
       " 'littledotheyknowthetownwheretheirfamilyandfriendsresidehasbeentakenoverbyacorruptsheriffandamurderousposse',\n",
       " 'littledotheyknowthey',\n",
       " 'littlemisssunshine',\n",
       " 'littlenicky',\n",
       " 'littlethebloodorchid',\n",
       " 'littlethelegendofthatcreepymasked',\n",
       " 'littlevoiceorlvbecomesavirtualrecluse',\n",
       " 'littlewalter',\n",
       " 'littlewoodenhead',\n",
       " 'liveandincolor',\n",
       " 'lived',\n",
       " 'livedabraveandvirtuousmousewithcomicallyoversizedearswhodreamtofbecomingaknight',\n",
       " 'liveouttheirmirroredlivesofoneanotherinthetownoftroy',\n",
       " 'lives',\n",
       " 'livesabroadwithherfamily',\n",
       " 'livesaftersheisforcedtocareforhercancer',\n",
       " 'livesapartfromhisruralworldpopulatedbyhisdistantfatherandroughlocalkids',\n",
       " 'livesbecomefuller',\n",
       " 'livesconverge',\n",
       " 'livesinavillainthevenetowithluisa',\n",
       " 'livesinriodejaneiro',\n",
       " 'livesnearbyandtheybothmisstheirmotherirene',\n",
       " 'livesthetrainincidentoverandoveragain',\n",
       " 'livestoplothervengeance',\n",
       " 'liveswithherauntem',\n",
       " 'liveswithherfather',\n",
       " 'liveswithherhusbandroy',\n",
       " 'livethewhos',\n",
       " 'livinganidealsuburbanlifeinatlantawhencolin',\n",
       " 'livingass',\n",
       " 'livingcroonerseesapossiblesavinggraceinalifewithjeanandheryoungson',\n",
       " 'livinghollywoodactorre',\n",
       " 'livinginabeachshackwiththreeroommates',\n",
       " 'livingineastlondonwithherfamily',\n",
       " 'livinginthebarriossectionoflosangeles',\n",
       " 'livingoffthegridandfundingtheirexistencethroughunconventionalandoftenillegalmeans',\n",
       " 'livingwithhismominchicagoat39',\n",
       " 'liwaspluckedfromapoorchinesevillagebymadamemao',\n",
       " 'liwitnessesthekidnappingofherfatherbywealthycrimelordm',\n",
       " 'lizziehasinventedastorythatheisawayatseaonthehmsaccra',\n",
       " 'lizziemustchoosebetweentellingfrankiethetruthorfindingtheperfectstrangertoplayfrankie',\n",
       " 'lizziewritesfrankieamake',\n",
       " 'lizzycaplan',\n",
       " 'llbealotofthrillin',\n",
       " 'llbeforcedtogiveuphisyuletidegig',\n",
       " 'llbeinjailfor14daysforapoliticalprotest',\n",
       " 'llbekilled',\n",
       " 'llbetheperfectopportunitytogetclosetothewomanhedesperatelyhasacrushon',\n",
       " 'llblowthewhistleonellietoherfather',\n",
       " 'llcoolj',\n",
       " 'lldoanything',\n",
       " 'lldoanythingfortickets',\n",
       " 'lldrivecross',\n",
       " 'lleverseeeyetoeye',\n",
       " 'llfacetheschool',\n",
       " 'llfindthattheirvideowillexposeevenmorethantheybargainedfor',\n",
       " 'llgoforsomeoneyoulove',\n",
       " 'llhanghisyoungermentallyslowbrotheronchristmasday',\n",
       " 'llhavetodealwithpickycustomerswhowanttheirsteakcookedtoorderandenthusiasticmanagerswhowanttobuildtheperfectwaitstaff',\n",
       " 'llhavetofloorittoretaintheirtop',\n",
       " 'llhavetosurvivefriendswithbenefits',\n",
       " 'llhavetotakeitalloff',\n",
       " 'llkillhersonoliverifshefails',\n",
       " 'llloseherson',\n",
       " 'llneedhelpfromthesomewhatunconventionalcharliegrimes',\n",
       " 'llneverforget',\n",
       " 'llneverlookattheminthesamewayagain',\n",
       " 'lloydshowsuptomakesuretheyreallyareretired',\n",
       " 'llraceanyway',\n",
       " 'llrememberforever',\n",
       " 'llretrieveafallenstarbyventuringintothemagicalrealm',\n",
       " 'llsettleitintheringforthechampionship',\n",
       " 'llshowlillianandherbridesmaidsjusthowfaryou',\n",
       " 'llsoondiscoverthatthethunderbirdswon',\n",
       " 'llstopatnothingtoprotecttheirbreedingground',\n",
       " 'llswapthepantssothateachgirlinturncanenjoythemagic',\n",
       " 'llvisithisgirlfriend',\n",
       " 'loneliness',\n",
       " 'loss',\n",
       " 'love',\n",
       " 'lover',\n",
       " 'lovofone',\n",
       " 'lt',\n",
       " 'luckily',\n",
       " 'lucy',\n",
       " 'macy',\n",
       " 'mako',\n",
       " 'man',\n",
       " 'mantis',\n",
       " 'mariabello',\n",
       " 'mark',\n",
       " 'martin',\n",
       " 'marty',\n",
       " 'master',\n",
       " 'mate',\n",
       " 'mattdamon',\n",
       " 'matthew',\n",
       " 'matthewmcconaughey',\n",
       " 'maurice',\n",
       " 'maybehe',\n",
       " 'meaning',\n",
       " 'meg',\n",
       " 'men',\n",
       " 'mexico',\n",
       " 'michael',\n",
       " 'michaeljaiwhite',\n",
       " 'michigan',\n",
       " 'middle',\n",
       " 'mike',\n",
       " 'mirandarichardson',\n",
       " 'missouri',\n",
       " 'moore',\n",
       " 'morethanfriends',\n",
       " 'mr',\n",
       " 'mrs',\n",
       " 'murder',\n",
       " 'music',\n",
       " 'mybigfatgreekwedding',\n",
       " 'nam',\n",
       " 'named',\n",
       " 'nancy',\n",
       " 'naturalisticstyleandsympathetic',\n",
       " 'naturally',\n",
       " 'nboots',\n",
       " 'neal',\n",
       " 'nemesis',\n",
       " 'neo',\n",
       " 'nephi',\n",
       " 'newjersey',\n",
       " 'newyork',\n",
       " 'nick',\n",
       " 'nicknolte',\n",
       " 'nicole',\n",
       " 'night',\n",
       " 'non',\n",
       " 'normal',\n",
       " 'nowgrownup',\n",
       " 'nowit',\n",
       " 'nowthey',\n",
       " 'nsa',\n",
       " 'oh',\n",
       " 'old',\n",
       " 'olddaughter',\n",
       " 'oldgirl',\n",
       " 'oldson',\n",
       " 'oldvampire',\n",
       " 'olive',\n",
       " 'on13',\n",
       " 'oncethere',\n",
       " 'oneday',\n",
       " 'onefatefulday',\n",
       " 'onenight',\n",
       " 'oneofthem',\n",
       " 'oneoftheworld',\n",
       " 'ontheotherhand',\n",
       " 'ontheway',\n",
       " 'orarethey',\n",
       " 'ordinarycitizengang',\n",
       " 'oregon',\n",
       " 'orsohethought',\n",
       " 'oscar',\n",
       " 'outsideofthesnackbar',\n",
       " 'owl',\n",
       " 'owner',\n",
       " 'packedthriller',\n",
       " 'pain',\n",
       " 'pam',\n",
       " 'paolo',\n",
       " 'parents',\n",
       " 'patrick',\n",
       " 'patton',\n",
       " 'paul',\n",
       " 'paulgiamatti',\n",
       " 'people',\n",
       " 'peoplearefascinatedbyanunidentifiedobjecthangingontoabridge',\n",
       " 'peru',\n",
       " 'pet',\n",
       " 'petcharoenstéphanilagardejean',\n",
       " 'petdetective',\n",
       " 'petealsomakesfriendswiththerabbi',\n",
       " 'petebeginsvisitinganearbysynagogue',\n",
       " 'petedecidesit',\n",
       " 'petedecidestoconvertajewtocatholicisminordertoimprovetheirstandingintheafterlife',\n",
       " 'peteguidestedthroughflightschoolandintocombat',\n",
       " 'petenotonlycomestotermswiththeirrelationshipbutalsoactsasdorinda',\n",
       " 'peter',\n",
       " 'peterbergwhentravis',\n",
       " 'peterbeuhmannandkevinevansindividuallysetouttomaketheirfirstfeature',\n",
       " 'petereceivesanewassignment',\n",
       " 'peterembarksonaterrifyingjourneywhenheacceptsaridefromanactor',\n",
       " 'peterfonda',\n",
       " 'petergetswhathewants',\n",
       " 'peterhasnotforgottenaboutthepromisehemadetogwen',\n",
       " 'peterimmediatelysetsouttorectifythesituation',\n",
       " 'peterisshockedtoseenotonlyaldoussnowinhawaii',\n",
       " 'peteristryingtofigureoutwhoheisandhowhegottobethepersonheistoday',\n",
       " 'peterpan',\n",
       " 'peterparker',\n",
       " 'peterquillfindshimselftheprimetargetofamanhuntafterdiscoveringanorbwantedbyronantheaccuser',\n",
       " 'petersanderson',\n",
       " 'petersburg',\n",
       " 'petersburgrussiaejectseatrarmypiercbrosnanseanbeanizabellascorupcofamkjanssenjodonbakermartincampbelljamesbondmustunmaskthemysteriousheadofthejanussyndicateandpreventtheleaderfromutilizingthegoldeneyeweaponssystemtoinflictdevastatingrevengeonbritain',\n",
       " 'petersburgrussiahighsocietyimperirussiatragdeath19thcenturykeiraknightleyjudlawaarontaylor',\n",
       " 'petersellersplaysmultiplerolesinthisfilm',\n",
       " 'peterson',\n",
       " 'peterwillmakelife',\n",
       " 'petitbibinaceripierrmorelsetintheghettosofparisin2010',\n",
       " 'pettycriminaltotheheightsofthecriminalunderworld',\n",
       " 'pettylordstheirmainconcernsrevolvearoundtwofundamentalrules',\n",
       " 'peñamichaelwalkerdrina',\n",
       " 'phelanisayoungwhitewomanwhohasrecentlymovedbackhomeaftergraduatingcollegetofindoutherchildhoodmaidhasmysteriouslydisappeared',\n",
       " 'philandliltheoddcouple',\n",
       " 'philip',\n",
       " 'philippe',\n",
       " 'philippeabrams',\n",
       " 'philippeisimmediatelybanishedtothedistantunheardoftownofbergues',\n",
       " 'philjacksonandbobcostasareinterviewed',\n",
       " 'phillipsitshouldhavebeenjustanormaldayofsex',\n",
       " 'philliumbenedictandhisgangofninjasandsecretservicelook',\n",
       " 'philosopherandguidetohisfriends',\n",
       " 'philosophicalguy',\n",
       " 'philrevealshisopustothepublicforthefirsttime',\n",
       " 'phincooper',\n",
       " 'phobiccareerwomanmayhavetofaceherfearswhenshemeetsagoodguy',\n",
       " 'phobiccopinvestigatesanapparentsuicide',\n",
       " 'phobicprofession',\n",
       " 'phonechangeslots',\n",
       " 'photographerrobertandassistantstephen',\n",
       " 'photographs',\n",
       " 'phyliciarashādsanaahamriaphysicaltherapistfallsforthebasketballplayersheishelpingrecoverfromacareer',\n",
       " 'physicalhardshipanddeep',\n",
       " 'physically',\n",
       " 'pi',\n",
       " 'pianistadamcgrathandheryoungdaughter',\n",
       " 'pickedcrewofspecialistswillattempttostealmorethan',\n",
       " 'pickingupwomen',\n",
       " 'pierraumontjamivoryhiswifehavingrecentlydied',\n",
       " 'pierre',\n",
       " 'pierredorothywakesupinpost',\n",
       " 'pierredulane',\n",
       " 'pierrehadherfollowedafewmonthsbefore',\n",
       " 'pierreissick',\n",
       " 'pierreslapsherandapologizes',\n",
       " 'pierrjeuneta12',\n",
       " 'pierrjeunetamanandhisfriendscomeupwithanintricateandoriginalplantodestroytwobigweaponsmanufacturers',\n",
       " 'pierrjeunetatatinyparisiancafé',\n",
       " 'pierrjeunetin1919',\n",
       " 'pierrjeunettwohundredyearsafterlt',\n",
       " 'pierrmariellejuliferrierjean',\n",
       " 'piglet',\n",
       " 'pilot',\n",
       " 'pilotfrancisgarypowersaftershootingdownhisu',\n",
       " 'pilotinsiststhattheyheadforseattle',\n",
       " 'pilotnick',\n",
       " 'pinesforonelastsightofhome',\n",
       " 'pinkandniceguyeddie',\n",
       " 'pinkribbons',\n",
       " 'pinkstoryofsuccess',\n",
       " 'pinocchio',\n",
       " 'pinocchioistestedbymanytemptations',\n",
       " 'pinocchiomustprovehe',\n",
       " 'pistol',\n",
       " 'pistolsandbowsandarrows',\n",
       " 'pitkareturnstohisnativelandtoseekhisfortuneasaspiritualistandself',\n",
       " 'pitsthemistoklesagainstthemassiveinvadingpersianforcesledbymortal',\n",
       " 'pittedagainstaclassofboisterousmoppetswhoseanticstryhispatienceandtesthismettle',\n",
       " 'pittedagainsthighly',\n",
       " 'pittinghimagainstanemperorfromthe2',\n",
       " 'piyapabhirombhakdisarunyuwongkrachangchatchaiplengpanichjohnnianfonemaicharoenpurachatrichalermyukolduringthe16thcentury',\n",
       " 'placeandabidebythethreelawsofrobotics',\n",
       " 'placesacurseuponhisnewborninfantaurora',\n",
       " 'plaguedbyadreadedstutterandconsideredunfittobeking',\n",
       " 'plaguedbyhorrificnightmaresandthedisappearanceofherfather',\n",
       " 'plaguedranch',\n",
       " 'plainview',\n",
       " 'plainviewgainsthecooperationofalmostallthelocalswithloftypromisestobuildschoolsandcultivatethelandtomaketheircommunityflourish',\n",
       " 'planaheistthatwilloutdotheirpreviousprankandmakethemlocallegends',\n",
       " 'planetg',\n",
       " 'plannedtriptothelandofthepharoahs',\n",
       " 'plans',\n",
       " 'plansaheistagainstthethreelocalfarmers',\n",
       " 'planstomergewiththebestteamsoftheabaattheendoftheseason',\n",
       " 'planstotakeoverearthfromtheinsidebysendinganoperative',\n",
       " 'planstowedolivervance',\n",
       " 'plantatflint',\n",
       " 'plassebilhadersethrogengregmottolahighschoolbestbuddiesarefacingseparationanxietyastheypreparetogoofftocollege',\n",
       " 'plassebobb',\n",
       " 'plasseclarkdukejimcarreyjeffwadlowafterkick',\n",
       " 'plassedavidtennantcraiggillespieateenagersuspectshisnewneighbourisavampire',\n",
       " 'plassenicolacagemarkstrongmatthewvaughndavelizewskiisanunnoticedhighschoolstudentandcomicbookfanwhoonedaydecidestobecomeasuper',\n",
       " 'plassestevcoogantomdeywhenphilanddebbiewinslowrelocatefromtheirnativekansastothesunnyclimesoforangecounty',\n",
       " 'platedkillingmachineintheblinkofaneye',\n",
       " 'platinumrapsuperstarsredmanandmethodmanstarasjamalandsilas',\n",
       " 'playattemptstogetrichquickinthemusicbusinesswhilekidfacesthechallengesofcollege',\n",
       " 'playbook',\n",
       " 'playboy',\n",
       " 'playedbyallenhimself',\n",
       " 'playedbygenevieveo',\n",
       " 'playedbyhughjackman',\n",
       " 'playedbysinger',\n",
       " 'playedbyvanwarmerdam',\n",
       " 'playedbywillemdafoe',\n",
       " 'playerbaseballteamtocompeteagainststandardlittleleaguesquads',\n",
       " 'playerswhonevergotachance',\n",
       " 'playingalcoholic',\n",
       " 'playingbeau',\n",
       " 'playinggirlfriend',\n",
       " 'playinghealthfoodstoreproprietor',\n",
       " 'playingskills',\n",
       " 'playingthemusicthatdefinesagenerationandstandinguptoagovernmentthatwantedcontrolofpopularcultureviathebritishbroadcastingcorporation',\n",
       " 'playleavetheirneighborhoodandentertheworldofadulthoodandhighereducation',\n",
       " 'playmusic',\n",
       " 'playrumpus',\n",
       " 'playsoutagainstabackgroundoflove',\n",
       " 'playstheroleofhernextcustomerashenegotiateswiththepimpfortheuseofthechild',\n",
       " 'playwrightlillianhellmanundertakesadangerousmissiontosmugglefundsintonazigermany',\n",
       " 'playwrightuptohisearsindebt',\n",
       " 'pleaselookafterthisbear',\n",
       " 'pleasurewasabusinessandbusinesswasbooming',\n",
       " 'pleasuringandfindsanunusualbed',\n",
       " 'pledge',\n",
       " 'plex',\n",
       " 'plotsandfantasizes',\n",
       " 'plotsrevengewhenhelearnshe',\n",
       " 'plottolurehimawayfromgabriella',\n",
       " 'plucksshanefromtheseaoffacesclamoringtogetinsidehisclub',\n",
       " 'plumbersfrombrooklyn',\n",
       " 'plumbingthedepthsofajewishworldlockedincrisisandonthecuspofprofoundchange',\n",
       " 'plummer',\n",
       " 'plumpeddowndonjuan',\n",
       " 'plungeshimintothecenterofaninternationalcrisisofterrifyingmagnitude',\n",
       " 'plungingintoadaringschemeofduplicity',\n",
       " 'plus',\n",
       " 'plusanicecommissionforhimself',\n",
       " 'plusaprovocativetaleofjealousyandbetrayalcombinetocreatethiscontroversialmodern',\n",
       " 'plusinterviewswiththesurvivingastronauts',\n",
       " 'plusrecentlyrediscoveredpersonalscrapbooks',\n",
       " 'plusthesecretengine',\n",
       " 'plutonash',\n",
       " 'pocahontasisanativeamericanwomanwhosefatherhasarrangedforhertomarryhervillage',\n",
       " 'pochenkohastimetotellbishopaboutsomeconspiracyinthewhitehousebutthenimmediatelygetskilledbyanassassin',\n",
       " 'poet',\n",
       " 'pointbreak',\n",
       " 'pointofviewarnoldschwarzeneggerf',\n",
       " 'pointofviewcamerashotunconsciousnessgirlfightveganaftercreditsstingermichaelceramarielizabethwinsteadkieranculkinchrievansannakendrickedgarwrightscottpilgrimisafilmadaptationofthecriticallyacclaimed',\n",
       " 'pointofviewcandlelightvigilgooddeedexotdancerschoolteacherextracreditassignmentdisfigurementjuniorhighschoolburninjurywomandirectorkevinspaceyhelenhunthaleyjoelosmentjaymohrjimcaviezelmimilederlikesomeotherkids',\n",
       " 'pointofviewrealestatejohngoodmanjimbroadbentceliaimrietomfeltonhughlauriepethewittthefour',\n",
       " 'pointofviewresponsibilityimmaturityadamsandlerjoeylaurenadamskristiswansoncolsprousejonstewartdenniduganalazylawschoolgradadoptsakidtoimpresshisgirlfriend',\n",
       " 'polarmallsecurityguardronniebarnhardtiscalledintoactiontostopaflasherfromturningshopper',\n",
       " 'policechiefwyattrash',\n",
       " 'policediscovergruesomemurdersonthecargoshipthatbroughtthecratestotheusandthenanothermurderinthemuseumitself',\n",
       " 'policeforceofthe1950susedifferingmethodstouncoveraconspiracybehindtheshotgunslayingsofthepatronsatanall',\n",
       " 'policeofficer',\n",
       " 'policeofficerintersectastheystruggletoresisttheirvulnerabilitiesandtemptations',\n",
       " 'polishpianistwhoduringthesecondworldwarlivedandhidmiraculouslyinwarsawafterhavinggonethroughaterribletragedy',\n",
       " 'politeand',\n",
       " 'politicalintrigueandbloodyholywarsduringthecrusades',\n",
       " 'politicalpostersinnewyork',\n",
       " 'politician',\n",
       " 'politiciansandjournalists',\n",
       " 'politics',\n",
       " 'politicsexplodbuildingsuspensemysterymafiaconspiracylawyercrimeprivacysurveillancebaltimormarylandsecrethideoutwilsmithgenhackmanjonvoightreginakingianharttoniscotthotshotwashingtonlawyer',\n",
       " 'pollardalastairduncanalunarmstrongtonimaylaminafuturisticlondon',\n",
       " 'pollockbeganadownwardspiral',\n",
       " 'pollybeginstosuspectthatsomethingisamissbetweenroseandgeorge',\n",
       " 'pollyprinceisirresistibleasafree',\n",
       " 'pompeiitellstheepicstoryofmilo',\n",
       " 'pomustfacetwohugelyepic',\n",
       " 'ponyousesherfather',\n",
       " 'poochandcougar',\n",
       " 'pooh',\n",
       " 'poohconvincestigger',\n",
       " 'poormanlovedisastertragloveclassdifferencesimaxstarcrossloverssteeragesalvagerichsnob3d1910skatwinsletleonardodicapriofrfisherbillizanekathibatesjamcameron84yearslater',\n",
       " 'poorplanningandacall',\n",
       " 'poorrodcannotevengetanyrespectfromhisstepfather',\n",
       " 'poorwomantylperryphyliciarashādthandinewtonbrianj',\n",
       " 'pootiemustlearntofindhimselfanddefeattheevilcorporationforalltheyoungblackchildrenofamerica',\n",
       " 'pootietang',\n",
       " 'popestablishmentswithname',\n",
       " 'popeye',\n",
       " 'popular',\n",
       " 'population',\n",
       " 'pornofilms',\n",
       " 'porter',\n",
       " 'portgambleisbeingoverrunwithbraineaters',\n",
       " 'portiadoubleday',\n",
       " 'portiafindsherselfbendingtherulesforjeremiah',\n",
       " 'portrayedbysupermodelvanessahessler',\n",
       " 'posesasaninnocentsmall',\n",
       " 'posingaroomingpredicamentfortwofresharrivals',\n",
       " 'posingasahuman',\n",
       " 'posingasaman',\n",
       " 'posingasapriest',\n",
       " 'posingasbigmommaandcharmaine',\n",
       " 'possessingvarioussupernaturalpowers',\n",
       " 'possiblyautobiographicalofmirandajuly',\n",
       " 'postalsystemwhotransformthemselvesintoaneliteteamoflost',\n",
       " ...]"
      ]
     },
     "execution_count": 153,
     "metadata": {},
     "output_type": "execute_result"
    }
   ],
   "source": [
    "cv.get_feature_names()"
   ]
  },
  {
   "cell_type": "markdown",
   "metadata": {
    "id": "elxdrivpvC3t"
   },
   "source": [
    "Calculating the distance between each vector with others"
   ]
  },
  {
   "cell_type": "code",
   "execution_count": 154,
   "metadata": {},
   "outputs": [],
   "source": [
    "movies_similarity=cosine_similarity(vectors_movies)"
   ]
  },
  {
   "cell_type": "code",
   "execution_count": 155,
   "metadata": {},
   "outputs": [
    {
     "data": {
      "text/plain": [
       "array([[0., 0., 0., ..., 0., 0., 0.],\n",
       "       [0., 1., 0., ..., 0., 0., 0.],\n",
       "       [0., 0., 0., ..., 0., 0., 0.],\n",
       "       ...,\n",
       "       [0., 0., 0., ..., 1., 0., 0.],\n",
       "       [0., 0., 0., ..., 0., 1., 0.],\n",
       "       [0., 0., 0., ..., 0., 0., 1.]])"
      ]
     },
     "execution_count": 155,
     "metadata": {},
     "output_type": "execute_result"
    }
   ],
   "source": [
    "movies_similarity"
   ]
  },
  {
   "cell_type": "markdown",
   "metadata": {},
   "source": [
    "Creating the Machine Learning Model"
   ]
  },
  {
   "cell_type": "code",
   "execution_count": 160,
   "metadata": {},
   "outputs": [],
   "source": [
    "def recommend(movie):\n",
    "    movie_index=movies_df[movies_df['title']==movie].index[0]\n",
    "    distances=movies_similarity[movie_index]\n",
    "    movies_list =sorted(list(enumerate(distances)),reverse=True,key=lambda x:x[1])[1:6]\n",
    "    \n",
    "    for i in movies_list:\n",
    "            print(movies_df.iloc[i[0]].title)"
   ]
  },
  {
   "cell_type": "code",
   "execution_count": 165,
   "metadata": {},
   "outputs": [
    {
     "name": "stdout",
     "output_type": "stream",
     "text": [
      "Avatar\n",
      "Pirates of the Caribbean: At World's End\n",
      "Spectre\n",
      "John Carter\n",
      "Spider-Man 3\n"
     ]
    }
   ],
   "source": [
    "recommend('The Dark Knight Rises')"
   ]
  },
  {
   "cell_type": "code",
   "execution_count": 172,
   "metadata": {},
   "outputs": [],
   "source": [
    "pickle.dump(movies_df, open('movie_list.pkl','wb'))"
   ]
  },
  {
   "cell_type": "code",
   "execution_count": 170,
   "metadata": {},
   "outputs": [],
   "source": [
    "pickle.dump(similarity,open('similarity.pkl','wb')) "
   ]
  }
 ],
 "metadata": {
  "colab": {
   "provenance": []
  },
  "kernelspec": {
   "display_name": "Python 3 (ipykernel)",
   "language": "python",
   "name": "python3"
  },
  "language_info": {
   "codemirror_mode": {
    "name": "ipython",
    "version": 3
   },
   "file_extension": ".py",
   "mimetype": "text/x-python",
   "name": "python",
   "nbconvert_exporter": "python",
   "pygments_lexer": "ipython3",
   "version": "3.9.12"
  }
 },
 "nbformat": 4,
 "nbformat_minor": 1
}
